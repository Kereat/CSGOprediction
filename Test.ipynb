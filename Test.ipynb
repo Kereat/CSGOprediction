{
 "cells": [
  {
   "cell_type": "markdown",
   "metadata": {},
   "source": [
    "- Определяем тиер в зависимости от ранга команды в мировом рейтинге, мол тиер -1 первые 15-25 команды, к примеру и выводим результат\n",
    "- Важность турнира пока не знаю как вывести, но можно собрать инфу по количеству выигрываемых денег а также по тому, какие команды играют\n",
    "- Рейтинг игроков я думаю пока средний 2.0 выводить\n",
    "- Активность команды выводим по количеству сыгранных игр \n",
    "- История встреч, сыгранные карты и счёт на них\n",
    "- История игр с одинаковыми врагами (типа вп - фазе, ликвид фазе, когда сравниваем вп и ликвид)\n",
    "- Мапы пока думаю просто выводить списком, которые сортируется, мол сыграли с тир-1 командой, тир-2 и так далее командами, результат, противник, карту (тоже сортируем) и метку поражения или победы"
   ]
  },
  {
   "cell_type": "code",
   "execution_count": 73,
   "metadata": {},
   "outputs": [
    {
     "name": "stdout",
     "output_type": "stream",
     "text": [
      "Tournament: ESL Pro League Season 10 Europe\n",
      "Prize:  TBA\n",
      "Teams: 16\n",
      "Tournament Tier: 1.7\n",
      "Tournament Stage: Group A\n",
      "\n",
      "G2 https://www.hltv.org/team/5995/g2\n",
      "Tier: 1\n",
      "\n",
      "NiP https://www.hltv.org/team/4411/nip\n",
      "Tier: 1\n"
     ]
    }
   ],
   "source": [
    "import requests\n",
    "import re\n",
    "\n",
    "# получаем страницу игры по ссылке\n",
    "link = 'https://www.hltv.org/matches/2337357/g2-vs-nip-esl-pro-league-season-10-europe'\n",
    "request = requests.get(link).text\n",
    "\n",
    "# функция по определению тира команды\n",
    "pattern_findrank = r\"<a href=\\\"/ranking/teams\\\">#([\\w-]+)<\"\n",
    "def get_tier(team_page):\n",
    "    rank = re.findall(pattern_findrank, team_page)\n",
    "    if len(rank) == 0:\n",
    "        return 3\n",
    "    else:\n",
    "        if int(rank[0]) <= 15:\n",
    "            return 1\n",
    "        elif int(rank[0]) <=30:\n",
    "            return 2\n",
    "        else:\n",
    "            return 3\n",
    "    \n",
    "# получаем название и страницу турнира\n",
    "pattern_find_tournament = r\"<div class=\\\"event text-ellipsis\\\"><a href=\\\"([\\w/-]+)\\\" title=\\\"([\\w\\s/-]+)\\\"\"\n",
    "tournament = re.findall(pattern_find_tournament, request)\n",
    "tournament_link = 'https://www.hltv.org' + tournament[0][0]\n",
    "tournament_name = tournament[0][1]\n",
    "tournament_page = requests.get(tournament_link).text\n",
    "print('Tournament:', tournament_name)\n",
    "\n",
    "# получаем информацию о награде турнира\n",
    "pattern_prize = r\"<td class=\\\"prizepool text-ellipsis\\\" title=\\\"([\\w\\s$,+\\-]+)\\\"\"\n",
    "prize = re.findall(pattern_prize, tournament_page)[0]\n",
    "print('Prize: ', prize)\n",
    "\n",
    "# получаем тир турнира\n",
    "pattern_tournament_teams = r\"<a href=\\\"/team([\\w/-]+)\\\" data-link-tracking-page=\\\"Eventpage\\\"\"\n",
    "tournament_teams = re.findall(pattern_tournament_teams, tournament_page)\n",
    "sum_rank = 0\n",
    "for i in tournament_teams:\n",
    "    page_team = requests.get('https://www.hltv.org/team' + i).text\n",
    "    sum_rank += get_tier(page_team)\n",
    "tournament_tier = sum_rank / len(tournament_teams)\n",
    "print('Teams:', len(tournament_teams))\n",
    "print('Tournament Tier:', round(tournament_tier, 1))\n",
    "\n",
    "# получаем информацию о стадии турнира\n",
    "pattern_tournament_stage = r\"<div class=\\\"padding preformatted-text\\\">[\\w\\s]+\\* ([\\w\\s]+)<\"\n",
    "tournament_stage = re.findall(pattern_tournament_stage, request)[0]\n",
    "print('Tournament Stage:', tournament_stage)\n",
    "\n",
    "# получаем название команд \n",
    "pattern_findteam = r\"class=\\\"teamName\\\">([\\w\\s\\.-]+)<\"\n",
    "teams = re.findall(pattern_findteam, request)\n",
    "team1 = teams[0]\n",
    "team2 = teams[1]\n",
    "\n",
    "# получаем страницы команд\n",
    "pattern_team1 = r\"<div class=\\\"team1-gradient\\\"><a href=\\\"([\\w/-]+)\\\"\"\n",
    "team1_link = 'https://www.hltv.org' + re.findall(pattern_team1, request)[0] \n",
    "request1 = requests.get(team1_link).text\n",
    "pattern_team2 = r\"<div class=\\\"team2-gradient\\\"><a href=\\\"([\\w/-]+)\\\"\"\n",
    "team2_link = 'https://www.hltv.org' + re.findall(pattern_team2, request)[0]\n",
    "request2 = requests.get(team2_link).text\n",
    "\n",
    "# получаем тир команд\n",
    "rank1 = get_tier(request1)\n",
    "rank2 = get_tier(request2)\n",
    "\n",
    "# вывод результата на экран\n",
    "print()\n",
    "print(team1, team1_link)\n",
    "print('Tier:', rank1)\n",
    "print()\n",
    "print(team2, team2_link)\n",
    "print('Tier:', rank2)"
   ]
  },
  {
   "cell_type": "code",
   "execution_count": null,
   "metadata": {},
   "outputs": [],
   "source": []
  }
 ],
 "metadata": {
  "kernelspec": {
   "display_name": "Python 3",
   "language": "python",
   "name": "python3"
  },
  "language_info": {
   "codemirror_mode": {
    "name": "ipython",
    "version": 3
   },
   "file_extension": ".py",
   "mimetype": "text/x-python",
   "name": "python",
   "nbconvert_exporter": "python",
   "pygments_lexer": "ipython3",
   "version": "3.7.3"
  }
 },
 "nbformat": 4,
 "nbformat_minor": 2
}
