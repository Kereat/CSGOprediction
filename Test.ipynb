{
 "cells": [
  {
   "cell_type": "code",
   "execution_count": 2,
   "metadata": {},
   "outputs": [
    {
     "ename": "IndexError",
     "evalue": "list index out of range",
     "output_type": "error",
     "traceback": [
      "\u001b[1;31m---------------------------------------------------------------------------\u001b[0m",
      "\u001b[1;31mIndexError\u001b[0m                                Traceback (most recent call last)",
      "\u001b[1;32m<ipython-input-2-3d58778d768d>\u001b[0m in \u001b[0;36m<module>\u001b[1;34m\u001b[0m\n\u001b[0;32m     29\u001b[0m \u001b[0mpattern_find_tournament\u001b[0m \u001b[1;33m=\u001b[0m \u001b[1;34mr\"<div class=\\\"event text-ellipsis\\\"><a href=\\\"(.*)\\\" title=\\\"(.*)\\\"\"\u001b[0m\u001b[1;33m\u001b[0m\u001b[1;33m\u001b[0m\u001b[0m\n\u001b[0;32m     30\u001b[0m \u001b[0mtournament\u001b[0m \u001b[1;33m=\u001b[0m \u001b[0mre\u001b[0m\u001b[1;33m.\u001b[0m\u001b[0mfindall\u001b[0m\u001b[1;33m(\u001b[0m\u001b[0mpattern_find_tournament\u001b[0m\u001b[1;33m,\u001b[0m \u001b[0mrequest\u001b[0m\u001b[1;33m)\u001b[0m\u001b[1;33m\u001b[0m\u001b[1;33m\u001b[0m\u001b[0m\n\u001b[1;32m---> 31\u001b[1;33m \u001b[0mtournament_link\u001b[0m \u001b[1;33m=\u001b[0m \u001b[1;34m'https://www.hltv.org'\u001b[0m \u001b[1;33m+\u001b[0m \u001b[0mtournament\u001b[0m\u001b[1;33m[\u001b[0m\u001b[1;36m0\u001b[0m\u001b[1;33m]\u001b[0m\u001b[1;33m[\u001b[0m\u001b[1;36m0\u001b[0m\u001b[1;33m]\u001b[0m\u001b[1;33m\u001b[0m\u001b[1;33m\u001b[0m\u001b[0m\n\u001b[0m\u001b[0;32m     32\u001b[0m \u001b[0mtournament_name\u001b[0m \u001b[1;33m=\u001b[0m \u001b[0mtournament\u001b[0m\u001b[1;33m[\u001b[0m\u001b[1;36m0\u001b[0m\u001b[1;33m]\u001b[0m\u001b[1;33m[\u001b[0m\u001b[1;36m1\u001b[0m\u001b[1;33m]\u001b[0m\u001b[1;33m\u001b[0m\u001b[1;33m\u001b[0m\u001b[0m\n\u001b[0;32m     33\u001b[0m \u001b[0mtournament_page\u001b[0m \u001b[1;33m=\u001b[0m \u001b[0mrequests\u001b[0m\u001b[1;33m.\u001b[0m\u001b[0mget\u001b[0m\u001b[1;33m(\u001b[0m\u001b[0mtournament_link\u001b[0m\u001b[1;33m)\u001b[0m\u001b[1;33m.\u001b[0m\u001b[0mtext\u001b[0m\u001b[1;33m\u001b[0m\u001b[1;33m\u001b[0m\u001b[0m\n",
      "\u001b[1;31mIndexError\u001b[0m: list index out of range"
     ]
    }
   ],
   "source": [
    "import requests\n",
    "import re\n",
    "\n",
    "\n",
    "# получаем страницу игры по ссылке\n",
    "link = 'https://www.hltv.org/matches/2342661/nexus-vs-saw-esea-advanced-season-34-europe'\n",
    "request = requests.get(link).text\n",
    "\n",
    "# функция по определению ранга команды\n",
    "pattern_findrank = r\"<a href=\\\"/ranking/teams\\\">#([\\w-]+)<\"\n",
    "def get_rank(team_page):\n",
    "    return re.findall(pattern_findrank, team_page)\n",
    "\n",
    "\n",
    "# функция по определению тира команды\n",
    "def get_tier(team_page):\n",
    "    rank = get_rank(team_page)\n",
    "    if len(rank) == 0:\n",
    "        return 3\n",
    "    else:\n",
    "        if int(rank[0]) <= 15:\n",
    "            return 1\n",
    "        elif int(rank[0]) <=30:\n",
    "            return 2\n",
    "        else:\n",
    "            return 3\n",
    "    \n",
    "    \n",
    "# получаем название и страницу турнира\n",
    "pattern_find_tournament = r\"<div class=\\\"event text-ellipsis\\\"><a href=\\\"(.*)\\\" title=\\\"(.*)\\\"\"\n",
    "tournament = re.findall(pattern_find_tournament, request)\n",
    "tournament_link = 'https://www.hltv.org' + tournament[0][0]\n",
    "tournament_name = tournament[0][1]\n",
    "tournament_page = requests.get(tournament_link).text\n",
    "print('Tournament:', tournament_name)\n",
    "\n",
    "\n",
    "# получаем информацию о награде турнира\n",
    "pattern_prize = r\"<td class=\\\"prizepool text-ellipsis\\\" title=\\\"([\\w\\s$,+\\-]+)\\\"\"\n",
    "prize = re.findall(pattern_prize, tournament_page)[0]\n",
    "print('Prize: ', prize)\n",
    "\n",
    "\n",
    "# получаем тир турнира\n",
    "pattern_tournament_teams = r\"<a href=\\\"/team([\\w/-]+)\\\" data-link-tracking-page=\\\"Eventpage\\\"\"\n",
    "tournament_teams = re.findall(pattern_tournament_teams, tournament_page)\n",
    "sum_rank = 0\n",
    "for i in tournament_teams:\n",
    "    page_team = requests.get('https://www.hltv.org/team' + i).text\n",
    "    sum_rank += get_tier(page_team)\n",
    "tournament_tier = sum_rank / len(tournament_teams)\n",
    "print('Teams:', len(tournament_teams))\n",
    "print('Tournament Tier:', round(tournament_tier, 1))\n",
    "\n",
    "\n",
    "# получаем информацию о стадии турнира\n",
    "pattern_tournament_stage = r\"<div class=\\\"padding preformatted-text\\\">[\\w\\s]+\\* ([\\w\\s]+).*<\"\n",
    "tournament_stage = re.findall(pattern_tournament_stage, request)\n",
    "if len(tournament_stage) > 0:\n",
    "    print('Tournament Stage:', tournament_stage[0])\n",
    "print('Tournament Link:', tournament_link)\n",
    "\n",
    "    \n",
    "# получаем историю пиков и банов для начавшейся игры\n",
    "pattern_history_pick = r\"<div>\\d\\. (.*)</div>\"\n",
    "history_pick = re.findall(pattern_history_pick, request)\n",
    "if len(history_pick) > 0:\n",
    "    print('----------------------------------------------------------')\n",
    "    print('History picks and bans:')\n",
    "    for i in history_pick:\n",
    "        print('-', i)\n",
    "\n",
    "        \n",
    "# получаем название команд \n",
    "pattern_findteam = r\"class=\\\"teamName\\\">([\\w\\s\\.-]+)<\"\n",
    "teams = re.findall(pattern_findteam, request)\n",
    "team1 = teams[0]\n",
    "team2 = teams[1]\n",
    "\n",
    "\n",
    "# получаем страницы команд\n",
    "pattern_team1 = r\"<div class=\\\"team1-gradient\\\"><a href=\\\"([\\w/-]+)\\\"\"\n",
    "team1_link = 'https://www.hltv.org' + re.findall(pattern_team1, request)[0] \n",
    "request1 = requests.get(team1_link).text\n",
    "pattern_team2 = r\"<div class=\\\"team2-gradient\\\"><a href=\\\"([\\w/-]+)\\\"\"\n",
    "team2_link = 'https://www.hltv.org' + re.findall(pattern_team2, request)[0]\n",
    "request2 = requests.get(team2_link).text\n",
    "\n",
    "\n",
    "# получаем тир и ранг команд\n",
    "rank1 = get_rank(request1)\n",
    "rank2 = get_rank(request2)\n",
    "tier1 = get_tier(request1)\n",
    "tier2 = get_tier(request2)\n",
    "\n",
    "\n",
    "# получаем информацию о командах с аналитики hltv\n",
    "pattern_analytisc_hltv = r\"<a href=\\\"(.*)\\\" class=\\\"matchpage-analytics-center-container\\\">\"\n",
    "analytisc_hltv_link = 'https://www.hltv.org' + re.findall(pattern_analytisc_hltv, request)[0]\n",
    "analytisc_hltv = requests.get(analytisc_hltv_link).text\n",
    "pattern_info_team1 = r\"<div class=\\\"analytics-insights-container team1\\\">([\\s\\S]*?)<div class=\\\"col-6\\\">\"\n",
    "info_team1 = re.findall(pattern_info_team1, analytisc_hltv)[0]\n",
    "pattern_info_team2 = r\"<div class=\\\"analytics-insights-container team2\\\">([\\s\\S]*?)<div class=\\\"analytics-bookmakers g-grid\\\" id=\\\"bookmakers\\\">\"\n",
    "info_team2 = re.findall(pattern_info_team2, analytisc_hltv)[0]\n",
    "pattern_find_plus = r\"<div class=\\\"analytics-insights-indicator in-favor\\\"><i class=\\\"fa fa-plus*\\\"></i></div>\\n\\s*<div class=\\\"analytics-insights-info\\\">(.*)</div>\"\n",
    "find_plus1 = re.findall(pattern_find_plus, info_team1)\n",
    "find_plus2 = re.findall(pattern_find_plus, info_team2)\n",
    "pattern_find_minus = r\"<div class=\\\"analytics-insights-indicator against\\\"><i class=\\\"fa fa-minus\\\"></i></div>\\n\\s*<div class=\\\"analytics-insights-info\\\">(.*)</div>\"\n",
    "find_minus1 = re.findall(pattern_find_minus, info_team1)\n",
    "find_minus2 = re.findall(pattern_find_minus, info_team2)\n",
    "print('----------------------------------------------------------')\n",
    "print('Team information')\n",
    "print()\n",
    "print(team1)\n",
    "print(\"Team link:\", team1_link)\n",
    "print('Tier:', tier1)\n",
    "if len(rank1) > 0:\n",
    "    print('Rank:', rank1[0])\n",
    "else:\n",
    "    print('Rank: -')\n",
    "if len(find_plus1) != 0:\n",
    "    for i in find_plus1:\n",
    "        print('+', i)\n",
    "else:\n",
    "    print('+ No insights detected for', team1)\n",
    "if len(find_minus1) != 0:\n",
    "    for i in find_minus1:\n",
    "        print('-', i)\n",
    "else:\n",
    "    print('- No insights detected for', team1)\n",
    "print()\n",
    "print(team2)\n",
    "print(\"Team link:\", team2_link)\n",
    "print('Tier:', tier2)\n",
    "if len(rank2) > 0:\n",
    "    print('Rank:', rank2[0])\n",
    "else:\n",
    "    print('Rank: -')\n",
    "if len(find_plus2) != 0:\n",
    "    for i in find_plus2:\n",
    "        print('+', i)\n",
    "else:\n",
    "    print('+ No insights detected for', team2)\n",
    "if len(find_minus2) != 0:\n",
    "    for i in find_minus2:\n",
    "        print('-', i)\n",
    "else:\n",
    "    print('- No insights detected for', team2)\n",
    "\n",
    "\n",
    "# получаем форму игроков с аналитики hltv\n",
    "pattern_players_form1 =  r\"<div class=\\\"analytics-head-to-head-container team1\\\">([\\s\\S]*?)<div class=\\\"analytics-last-matches\\\">\"    \n",
    "pattern_players_form2 =  r\"<div class=\\\"analytics-head-to-head-container team2\\\">([\\s\\S]*?)<div class=\\\"analytics-last-matches\\\">\"    \n",
    "players_form1 = re.findall(pattern_players_form1, analytisc_hltv)[0]\n",
    "players_form2 = re.findall(pattern_players_form2, analytisc_hltv)[0]\n",
    "pattern_find_player = r\"<div class=\\\"player-nickname\\\">(.*)</div>\"\n",
    "pattern_form_latest = r\"<td class=\\\"table-3-months[\\s\\w]*?\\\">(.*)</td>\"\n",
    "pattern_form_event = r\"<td class=\\\"table-event[\\s\\w]*?\\\"[\\s\\S]*?>(.*)</td>\"\n",
    "find_player1 = re.findall(pattern_find_player, players_form1)\n",
    "form_latest1 = re.findall(pattern_form_latest, players_form1)\n",
    "form_event1 = re.findall(pattern_form_event, players_form1)\n",
    "find_player2 = re.findall(pattern_find_player, players_form2)\n",
    "form_latest2 = re.findall(pattern_form_latest, players_form2)\n",
    "form_event2 = re.findall(pattern_form_event, players_form2)\n",
    "print('----------------------------------------------------------')\n",
    "print('Form players (Nick | 3 months | Event)')\n",
    "print()\n",
    "print(team1)\n",
    "i = 0\n",
    "while i < len(find_player1):\n",
    "    print(find_player1[i], '|', form_latest1[i], '|', form_event1[i])\n",
    "    i += 1\n",
    "print()\n",
    "print(team2)\n",
    "i = 0\n",
    "while i < len(find_player2):\n",
    "    print(find_player2[i], '|', form_latest2[i], '|', form_event2[i])\n",
    "    i += 1\n"
   ]
  },
  {
   "cell_type": "code",
   "execution_count": 11,
   "metadata": {
    "scrolled": false
   },
   "outputs": [
    {
     "name": "stdout",
     "output_type": "stream",
     "text": [
      "----------------------------------------------------------\n",
      "Spirit\n",
      "mirage stats\n",
      "Times played: 14\n",
      "Wins/draws/losses: 11 0 3\n",
      "Total rounds played: 367\n",
      "Rounds won: 210\n",
      "Win percent: 78.6%\n",
      "Win round percent: 57.2%\n",
      "Win CT percent: 51.43%\n",
      "Win T percent: 48.57%\n",
      "Pistol rounds: 28\n",
      "Pistol rounds won: 18\n",
      "Pistol round win percent: 64.3%\n",
      "\n",
      "GamerLegion\n",
      "mirage stats\n",
      "Times played: 12\n",
      "Wins/draws/losses: 9 0 3\n",
      "Total rounds played: 340\n",
      "Rounds won: 186\n",
      "Win percent: 75.0%\n",
      "Win round percent: 54.7%\n",
      "Win CT percent: 51.61%\n",
      "Win T percent: 48.39%\n",
      "Pistol rounds: 24\n",
      "Pistol rounds won: 12\n",
      "Pistol round win percent: 50.0%\n",
      "----------------------------------------------------------\n",
      "Mathes\n",
      "Spirit\n",
      "16/02/20 | won | 16 - 14 | Rank: 37 Gambit Youngsters | FLASHPOINT Europe Closed Qualifier\n",
      "16/02/20 | won | 16 - 4 | Rank: 30 Copenhagen Flames | FLASHPOINT Europe Closed Qualifier\n",
      "16/02/20 | won | 16 - 12 | Rank: 46 GamerLegion | FLASHPOINT Europe Closed Qualifier\n",
      "15/02/20 | won | 16 - 11 | Rank: 47 Juggernauts | FLASHPOINT Europe Closed Qualifier\n",
      "15/02/20 | won | 16 - 14 | Rank: 30 Copenhagen Flames | FLASHPOINT Europe Closed Qualifier\n",
      "14/02/20 | lost | 14 - 16 | Rank: 37 Gambit Youngsters | WESG 2019 Russia Closed Qualifier\n",
      "10/02/20 | won | 16 - 4 | Rank: 37 Gambit Youngsters | WESG 2019 Russia Closed Qualifier\n",
      "18/01/20 | lost | 6 - 16 | Rank: 32 HAVU | DreamHack Open Anaheim 2020 Europe Open Qualifier\n",
      "14/01/20 | won | 16 - 11 | Rank: 19 GODSENT | SECTOR: MOSTBET\n",
      "22/12/19 | lost | 11 - 16 | Rank: 8 G2 | Champions Cup Finals\n",
      "21/12/19 | won | 16 - 4 | Rank: 21 FURIA | Champions Cup Finals\n",
      "20/12/19 | won | 19 - 15 | Rank: 25 BIG | Champions Cup Finals\n",
      "15/12/19 | won | 16 - 13 | Rank: - Riot Squad | ESEA MDL Season 32 Global Challenge\n",
      "20/11/19 | won | 16 - 7 | Rank: 42 Sprout | European Champions Cup\n",
      "\n",
      "GamerLegion\n",
      "19/02/20 | won | 16 - 11 | Rank: 45 HellRaisers | ESEA MDL Season 33 Europe\n",
      "16/02/20 | lost | 12 - 16 | Rank: 27 Spirit | FLASHPOINT Europe Closed Qualifier\n",
      "15/02/20 | won | 16 - 13 | Rank: 78 Heretics | FLASHPOINT Europe Closed Qualifier\n",
      "15/02/20 | won | 16 - 8 | Rank: 73 Tricked | FLASHPOINT Europe Closed Qualifier\n",
      "15/02/20 | won | 16 - 5 | Rank: 29 ex-Virtus.pro | FLASHPOINT Europe Closed Qualifier\n",
      "14/02/20 | won | 16 - 7 | Rank: 127 Cream | FLASHPOINT Europe Closed Qualifier\n",
      "07/02/20 | won | 16 - 13 | Rank: 35 Movistar Riders | ESEA MDL Season 33 Europe\n",
      "26/01/20 | won | 16 - 14 | Rank: 32 HAVU | CMD368 Championship\n",
      "22/01/20 | lost | 6 - 16 | Rank: 73 Tricked | CMD368 Championship\n",
      "07/01/20 | lost | 12 - 16 | Rank: 67 Apeks | IEM Katowice 2020 Europe Open Qualifier 2\n",
      "11/12/19 | won | 28 - 26 | Rank: 61 FATE | ESEA MDL Season 32 Europe Relegation\n",
      "08/12/19 | won | 16 - 9 | Rank: 15 Heroic | WESG 2019 North Europe Closed Qualifier\n"
     ]
    }
   ],
   "source": [
    "# выбираем карту (с маленькой буквы)\n",
    "maps = 'mirage'\n",
    "\n",
    "# получаем ссылки на сыгранные карты за последние 3 месяца\n",
    "pattern_stats_team = r\"<a href=\\\"(/stats/teams/map/.*)\\\" class=\\\"moreButton\\\"\"\n",
    "link_maps1 = re.findall(pattern_stats_team, request1)\n",
    "link_maps2 = re.findall(pattern_stats_team, request2)\n",
    "\n",
    "\n",
    "# получаем страницу с искомой картой\n",
    "card_code = {'dust2':'/31/', 'mirage':'/32/', 'inferno':'/33/', 'nuke':'/34/', 'train':'/35/', 'overpass':'/40/', 'vertigo':'/46/'}\n",
    "pattern_code = r\"(/\\d\\d/)\"\n",
    "score_link = 'https://www.hltv.org' + link_maps1[0]\n",
    "score_link1 = re.sub(pattern_code, card_code[maps], score_link)\n",
    "score_link1 = score_link1.replace(\"amp;\", \"\")\n",
    "score_page1 = requests.get(score_link1).text\n",
    "score_link = 'https://www.hltv.org' + link_maps2[0]\n",
    "score_link2 = re.sub(pattern_code, card_code[maps], score_link)\n",
    "score_link2 = score_link2.replace(\"amp;\", \"\")\n",
    "score_page2 = requests.get(score_link2).text\n",
    "\n",
    "\n",
    "# получаем статистику по сыгранной карте\n",
    "pattern_times_played = r\"<div class=\\\"stats-row\\\"><span class=\\\"strong\\\">Times played</span><span>(\\w*)<\"\n",
    "times_played1 = re.findall(pattern_times_played, score_page1)[0]\n",
    "times_played2 = re.findall(pattern_times_played, score_page2)[0]\n",
    "pattern_wins_draws_losses = r\"<div class=\\\"stats-row\\\"><span class=\\\"strong\\\">Wins / draws / losses</span><span>(\\w*) / (\\w*) / (\\w*)<\"\n",
    "wins_draws_losses1 = re.findall(pattern_wins_draws_losses, score_page1)\n",
    "wins_draws_losses2 = re.findall(pattern_wins_draws_losses, score_page2)\n",
    "pattern_total_rounds_played = r\"<div class=\\\"stats-row\\\"><span class=\\\"strong\\\">Total rounds played</span><span>(\\w*)<\"\n",
    "total_rounds_played1 = re.findall(pattern_total_rounds_played, score_page1)[0]\n",
    "total_rounds_played2 = re.findall(pattern_total_rounds_played, score_page2)[0]\n",
    "patter_rounds_won = r\"<div class=\\\"stats-row\\\"><span class=\\\"strong\\\">Rounds won</span><span>(\\w+)<\"\n",
    "rounds_won1 = re.findall(patter_rounds_won, score_page1)[0] \n",
    "rounds_won2 = re.findall(patter_rounds_won, score_page2)[0]\n",
    "pattern_win_percent = r\"<div class=\\\"stats-row\\\"><span class=\\\"strong\\\">Win percent</span><span class=\\\"\\w*\\\">([\\w\\.%]*)<\"\n",
    "\n",
    "'''win_percent1 = re.findall(pattern_win_percent, score_page1)[0]\n",
    "win_percent2 = re.findall(pattern_win_percent, score_page2)[0]'''\n",
    "\n",
    "pattern_distribution_of_won_rounds = r\"data&quot;:\\[\\{&quot;label&quot\\;\\:&quot;\\w*&quot;,&quot;value&quot;:&quot;(\\w*)&quot;,&quot;color&quot;:&quot;2C6EA4&quot;\\},\\{&quot;label&quot;:&quot;\\w*&quot;,&quot;value&quot;:&quot;(\\w*)&quot;\"\n",
    "distribution_of_won_rounds1 = re.findall(pattern_distribution_of_won_rounds, score_page1)\n",
    "distribution_of_won_rounds2 = re.findall(pattern_distribution_of_won_rounds, score_page2)\n",
    "\n",
    "'''if int(total_rounds_played1) != 0:\n",
    "    win_round_percent1 = str(round((int(rounds_won1) / int(total_rounds_played1) * 100), 1)) + '%'\n",
    "    win_ct_1 = str(round((int(distribution_of_won_rounds1[0][0]) / (int(distribution_of_won_rounds1[0][0]) + int(distribution_of_won_rounds1[0][1])) * 100), 2)) + '%' \n",
    "    win_t_1 = str(round((int(distribution_of_won_rounds1[0][1]) / (int(distribution_of_won_rounds1[0][0]) + int(distribution_of_won_rounds1[0][1])) * 100), 2)) + '%' \n",
    "else:\n",
    "    win_round_percent1 = 0\n",
    "    win_ct_1 = 0\n",
    "    win_t_1 = 0'''\n",
    "    \n",
    "'''if int(total_rounds_played2) != 0:\n",
    "    win_round_percent2 = str(round((int(rounds_won2) / int(total_rounds_played2) * 100), 1)) + '%'\n",
    "    win_ct_2 = str(round((int(distribution_of_won_rounds2[0][0]) / (int(distribution_of_won_rounds2[0][0]) + int(distribution_of_won_rounds2[0][1])) * 100), 2)) + '%' \n",
    "    win_t_2 = str(round((int(distribution_of_won_rounds2[0][1]) / (int(distribution_of_won_rounds2[0][0]) + int(distribution_of_won_rounds2[0][1])) * 100), 2)) + '%' \n",
    "else:\n",
    "    win_round_percent2 = 0\n",
    "    win_ct_2 = 0\n",
    "    win_t_2 = 0'''\n",
    "    \n",
    "pattern_pistol_rounds = r\"<div class=\\\"stats-row\\\"><span class=\\\"strong\\\">Pistol rounds</span><span>(\\w*)<\"\n",
    "pistol_rounds1 = re.findall(pattern_pistol_rounds, score_page1)[0]\n",
    "pistol_rounds2 = re.findall(pattern_pistol_rounds, score_page2)[0]\n",
    "pattern_pistol_rounds_won = r\"<div class=\\\"stats-row\\\"><span class=\\\"strong\\\">Pistol rounds won</span><span>(\\w*)<\"\n",
    "pistol_rounds_won1 = re.findall(pattern_pistol_rounds_won, score_page1)[0]\n",
    "pistol_rounds_won2 = re.findall(pattern_pistol_rounds_won, score_page2)[0]\n",
    "pattern_pistol_round_win_percent = r\"<div class=\\\"stats-row\\\"><span class=\\\"strong\\\">Pistol round win percent</span><span class=\\\"\\w*\\\">([\\w\\.%]*)<\"\n",
    "\n",
    "'''pistol_round_win_percent1 = re.findall(pattern_pistol_round_win_percent, score_page1)[0]\n",
    "pistol_round_win_percent2 = re.findall(pattern_pistol_round_win_percent, score_page2)[0]'''\n",
    "\n",
    "# получаем статистику сыгранных матчей на выбранной карте\n",
    "pattern_match_date = r\"<td class=\\\"time\\\"><a href=\\\".*\\\">([\\d/]*)<\"\n",
    "match_date1 = re.findall(pattern_match_date, score_page1)\n",
    "match_date2 = re.findall(pattern_match_date, score_page2)\n",
    "pattern_score_match = r\"<td class=\\\"statsTeamMapResult match-(\\w*)\\\">(.*)</td>\"\n",
    "score_match1 = re.findall(pattern_score_match, score_page1)\n",
    "score_match2 = re.findall(pattern_score_match, score_page2)\n",
    "pattern_opponent = r\"<td><a href=\\\".*\\\" class=\\\"image-and-label\\\".*><span>(.*)</span></a>\"\n",
    "opponent1 = re.findall(pattern_opponent, score_page1)\n",
    "opponent2 = re.findall(pattern_opponent, score_page2)\n",
    "pattern_opponent_link = r\"<td><a href=\\\"/stats/teams/(\\d*)/.*?\\\" class=\\\"image-and-label\\\" data-tooltip-id=\\\".*?\\\">\"\n",
    "opponent_link1 = re.findall(pattern_opponent_link, score_page1)\n",
    "opponent_link2 = re.findall(pattern_opponent_link, score_page2)\n",
    "ranks_opponent1 = []\n",
    "ranks_opponent2 = []\n",
    "i = 0\n",
    "while i < len(opponent1):\n",
    "    opponent = opponent1[i].lower()\n",
    "    opponent = opponent.replace(' ', '-')\n",
    "    page_opponent = requests.get('https://www.hltv.org/team/' + opponent_link1[i] + '/opponent').text\n",
    "    rank = get_rank(page_opponent)\n",
    "    if len(rank) == 0:\n",
    "        ranks_opponent1.append('-')\n",
    "    else:\n",
    "        ranks_opponent1.append(rank[0])\n",
    "    i += 1\n",
    "i = 0\n",
    "while i < len(opponent2):\n",
    "    opponent = opponent2[i].lower()\n",
    "    opponent = opponent.replace(' ', '-')\n",
    "    page_opponent = requests.get('https://www.hltv.org/team/' + opponent_link2[i] + '/opponent').text\n",
    "    rank = get_rank(page_opponent)\n",
    "    if len(rank) == 0:\n",
    "        ranks_opponent2.append('-')\n",
    "    else:\n",
    "        ranks_opponent2.append(rank[0])\n",
    "    i += 1\n",
    "pattern_match_tournament = r\"<td class=\\\"\\\"><a href=\\\".*\\\" class=\\\"image-and-label\\\" data-tooltip-id=\\\".*\\\" title=\\\"(.*)\\\">\"\n",
    "match_tournament1 = re.findall(pattern_match_tournament, score_page1)\n",
    "match_tournament2 = re.findall(pattern_match_tournament, score_page2)\n",
    "\n",
    "print('----------------------------------------------------------')\n",
    "print(team1)\n",
    "print(maps, 'stats')\n",
    "print('Times played:', times_played1)\n",
    "print('Wins/draws/losses:', wins_draws_losses1[0][0], wins_draws_losses1[0][1], wins_draws_losses1[0][2])\n",
    "print('Total rounds played:', total_rounds_played1)\n",
    "print('Rounds won:', rounds_won1)\n",
    "print('Win percent:', win_percent1)\n",
    "print('Win round percent:', win_round_percent1)\n",
    "print('Win CT percent:', win_ct_1)\n",
    "print('Win T percent:', win_t_1)\n",
    "print('Pistol rounds:', pistol_rounds1)\n",
    "print('Pistol rounds won:', pistol_rounds_won1)\n",
    "print('Pistol round win percent:', pistol_round_win_percent1)\n",
    "\n",
    "print()\n",
    "print(team2)\n",
    "print(maps, 'stats')\n",
    "print('Times played:', times_played2)\n",
    "print('Wins/draws/losses:', wins_draws_losses2[0][0], wins_draws_losses2[0][1], wins_draws_losses2[0][2])\n",
    "print('Total rounds played:', total_rounds_played2)\n",
    "print('Rounds won:', rounds_won2)\n",
    "print('Win percent:', win_percent2)\n",
    "print('Win round percent:', win_round_percent2)\n",
    "print('Win CT percent:', win_ct_2)\n",
    "print('Win T percent:', win_t_2)\n",
    "print('Pistol rounds:', pistol_rounds2)\n",
    "print('Pistol rounds won:', pistol_rounds_won2)\n",
    "print('Pistol round win percent:', pistol_round_win_percent2)\n",
    "\n",
    "print('----------------------------------------------------------')\n",
    "print('Mathes')\n",
    "print(team1)\n",
    "i = 0\n",
    "while i < len(match_date1):\n",
    "    print(match_date1[i], '|', score_match1[i][0], '|', score_match1[i][1], '| Rank:', ranks_opponent1[i], opponent1[i], '|', match_tournament1[i])\n",
    "    i += 1\n",
    "i = 0\n",
    "print()\n",
    "print(team2)\n",
    "while i < len(match_date2):\n",
    "    print(match_date2[i], '|', score_match2[i][0], '|', score_match2[i][1], '| Rank:', ranks_opponent2[i], opponent2[i], '|', match_tournament2[i])\n",
    "    i += 1"
   ]
  },
  {
   "cell_type": "code",
   "execution_count": null,
   "metadata": {},
   "outputs": [],
   "source": []
  },
  {
   "cell_type": "markdown",
   "metadata": {},
   "source": [
    "# Начало запуска!"
   ]
  },
  {
   "cell_type": "markdown",
   "metadata": {},
   "source": [
    "Очередь:\n"
   ]
  },
  {
   "cell_type": "code",
   "execution_count": 24,
   "metadata": {},
   "outputs": [
    {
     "name": "stdout",
     "output_type": "stream",
     "text": [
      "Все ок\n"
     ]
    }
   ],
   "source": [
    "import requests\n",
    "import re\n",
    "import numpy as np\n",
    "import pandas as pd\n",
    "import time\n",
    "\n",
    "link = 'https://www.hltv.org/matches/2345218/heroic-vs-vitality-iem-beijing-haidian-2020-europe'\n",
    "\n",
    "# получаем страницу\n",
    "def get_request(link):\n",
    "    headers_initial = {\n",
    "        'user-agent': 'Mozilla/5.0 (Windows NT 6.1) AppleWebKit/537.36 (KHTML, like Gecko) Chrome/41.0.2228.0 Safari/537.36',\n",
    "        'accept': 'text/html,application/xhtml+xml,application/xml;q=0.9,image/webp,image/apng,*/*;q=0.8',\n",
    "        'accept-language': 'en-US,en;q=0.9',\n",
    "        'cache-control': 'no-cache',\n",
    "        'upgrade-insecure-requests': '1',\n",
    "    } \n",
    "    return requests.get(link, headers=headers_initial).text\n",
    "\n",
    "# получаем названия команд\n",
    "def get_team_names(request):\n",
    "    pattern_findteam = r\"class=\\\"teamName\\\">([\\w\\s\\.-]+)<\"\n",
    "    team_names = re.findall(pattern_findteam, request)\n",
    "    return team_names[0], team_names[1]\n",
    "    \n",
    "# получаем страницы команд\n",
    "def get_team_pages(request):\n",
    "    pattern_team1 = r\"<div class=\\\"team1-gradient\\\"><a href=\\\"([\\w/-]+)\\\"\"\n",
    "    team1_link = 'https://www.hltv.org' + re.findall(pattern_team1, request)[0] \n",
    "    pattern_team2 = r\"<div class=\\\"team2-gradient\\\"><a href=\\\"([\\w/-]+)\\\"\"\n",
    "    team2_link = 'https://www.hltv.org' + re.findall(pattern_team2, request)[0]\n",
    "    return get_request(team1_link), get_request(team2_link)\n",
    "\n",
    "# функция по определению ранга команды\n",
    "def get_rank(team_page):\n",
    "    pattern_findrank = r\"<a href=\\\"/ranking/teams\\\">#([\\w-]+)<\"\n",
    "    return re.findall(pattern_findrank, team_page)[0]\n",
    "\n",
    "# получаем страницу аналитики\n",
    "def get_analytics_page(request):\n",
    "    pattern_analytics_hltv = r\"<a href=\\\"(.*)\\\" class=\\\"matchpage-analytics-center-container\\\">\"\n",
    "    analytics_hltv_link = 'https://www.hltv.org' + re.findall(pattern_analytics_hltv, request)[0]\n",
    "    return get_request(analytics_hltv_link)\n",
    "\n",
    "# получаем формы игроков двух команд\n",
    "def get_players_forms(analytics_page):\n",
    "    pattern_players_form1 =  r\"<div class=\\\"analytics-head-to-head-container team1\\\">([\\s\\S]*?)<div class=\\\"analytics-last-matches\\\">\"    \n",
    "    players_form1 = re.findall(pattern_players_form1, analytics_page)[0]\n",
    "    pattern_players_form2 =  r\"<div class=\\\"analytics-head-to-head-container team2\\\">([\\s\\S]*?)<div class=\\\"analytics-last-matches\\\">\"\n",
    "    players_form2 = re.findall(pattern_players_form2, analytics_page)[0]\n",
    "    return players_form1, players_form2\n",
    "\n",
    "# получаем форму команды за 3 месяца\n",
    "def get_form_latest(players_form):\n",
    "    pattern_form_latest = r\"<td class=\\\"table-3-months[\\s\\w]*?\\\">(.*)</td>\"\n",
    "    form_latest = list()\n",
    "    for i in re.findall(pattern_form_latest, players_form):\n",
    "        form_latest.append(float(i))\n",
    "    return form_latest\n",
    "\n",
    "# получаем форму команды на текущем турнире\n",
    "def get_form_event(players_form):\n",
    "    pattern_form_event = r\"<td class=\\\"table-event[\\s\\w]*?\\\"[\\s\\S]*?>(.*)</td>\"\n",
    "    if re.findall(pattern_form_event, players_form)[0] == '-':\n",
    "        return get_form_latest(players_form)\n",
    "    else:\n",
    "        form_event = list()\n",
    "        for i in re.findall(pattern_form_event, players_form):\n",
    "            form_event.append(float(i))\n",
    "        return(form_event)\n",
    "\n",
    "# получаем статистики формы команды\n",
    "def get_form_statistics(list_form):\n",
    "    avg_form = sum(list_form) / len(list_form)\n",
    "    form_range = max(list_form) - min(list_form)\n",
    "    diffs = 0\n",
    "    for n in list_form:\n",
    "        diffs += (n - avg_form)**(2)\n",
    "    sd_form = (diffs/(len(list_form)-1))**(0.5)\n",
    "    return avg_form, form_range, sd_form\n",
    "\n",
    "# получаем статистику по раундам в игре\n",
    "def get_avg_rounds(analytics_page):\n",
    "    match_pattern =  r\"<div class=\\\"analytics-handicap-map-data-table-container\\\">([\\s\\S]*?)</table>\"    \n",
    "    matchs = re.findall(match_pattern, analytics_page)\n",
    "    return matchs[0], matchs[1]\n",
    "\n",
    "# получаем словарь с названиями карт и средние раунды при победах и поражениях\n",
    "def get_avg_rounds_maps(avg_rounds):\n",
    "    map_pattern = r\"<tr>([\\s\\S]*?)</tr>\"\n",
    "    maps = re.findall(map_pattern, avg_rounds)\n",
    "    map_name_pattern = r\"<div class=\\\"mapname\\\">([\\s\\S]*?)</div>\"\n",
    "    avg_rounds_pattern = r\"<td class=\\\"analytics-handicap-map-data-avg\\\">([\\s\\S]*?)</td>\"\n",
    "    maps_name = {}\n",
    "    for i in maps:\n",
    "        if len(re.findall(map_name_pattern, i)) > 0:\n",
    "            maps_name[re.findall(map_name_pattern, i)[0]] = re.findall(avg_rounds_pattern, i)\n",
    "    return maps_name\n",
    "\n",
    "# получаем страницу с искомой картой (с мелкой буквы)\n",
    "def score_page(maps_name, team_page):\n",
    "    pattern_stats_team = r\"<a href=\\\"(/stats/teams/map/.*)\\\" class=\\\"moreButton\\\"\"\n",
    "    link_maps = re.findall(pattern_stats_team, team_page)\n",
    "    card_code = {'dust2':'/31/', 'mirage':'/32/', 'inferno':'/33/', 'nuke':'/34/', 'train':'/35/', 'overpass':'/40/', 'vertigo':'/46/'}\n",
    "    pattern_code = r\"(/\\d\\d/)\"\n",
    "    link = 'https://www.hltv.org' + link_maps[0]\n",
    "    score_link = re.sub(pattern_code, card_code[maps_name], link)\n",
    "    score_link = score_link.replace(\"amp;\", \"\")\n",
    "    score_page = get_request(score_link)\n",
    "    return score_page\n",
    "\n",
    "# получаем процент выигранных игр на карте\n",
    "def win_percent_map(score_page):\n",
    "    pattern_win_percent = r\"<div class=\\\"stats-row\\\"><span class=\\\"strong\\\">Win percent</span><span class=\\\"\\w*\\\">([\\w\\.%]*)<\"\n",
    "    if len(re.findall(pattern_win_percent, score_page)) > 0:\n",
    "        win_percent = re.findall(pattern_win_percent, score_page)[0].replace('%','')\n",
    "    else:\n",
    "        win_percent = 0\n",
    "    return float(win_percent)\n",
    "\n",
    "# получаем процент выигранных пистолеток\n",
    "def win_pistol_rounds(score_page):\n",
    "    pattern_pistol_round_win_percent = r\"<div class=\\\"stats-row\\\"><span class=\\\"strong\\\">Pistol round win percent</span><span class=\\\"\\w*\\\">([\\w\\.%]*)<\"\n",
    "    if len(re.findall(pattern_pistol_round_win_percent, score_page)) > 0:\n",
    "        pistol_round_win_percent = re.findall(pattern_pistol_round_win_percent, score_page)[0].replace('%','')\n",
    "    else:\n",
    "        pistol_round_win_percent = 0\n",
    "    return float(pistol_round_win_percent)\n",
    "\n",
    "# получаем распределение долей общих выигранных карт, за кт и за т\n",
    "def distribution_of_won_rounds(score_page):\n",
    "    pattern_total_rounds_played = r\"<div class=\\\"stats-row\\\"><span class=\\\"strong\\\">Total rounds played</span><span>(\\w*)<\"\n",
    "    if len(re.findall(pattern_total_rounds_played, score_page)) > 0:\n",
    "        total_rounds_played = re.findall(pattern_total_rounds_played, score_page)[0]\n",
    "    else:\n",
    "        total_rounds_played = 0\n",
    "    patter_rounds_won = r\"<div class=\\\"stats-row\\\"><span class=\\\"strong\\\">Rounds won</span><span>(\\w+)<\"\n",
    "    if len(re.findall(patter_rounds_won, score_page)) > 0:\n",
    "        rounds_won = re.findall(patter_rounds_won, score_page)[0]\n",
    "    else:\n",
    "        rounds_won = 0\n",
    "    pattern_distribution_of_won_rounds = r\"data&quot;:\\[\\{&quot;label&quot\\;\\:&quot;\\w*&quot;,&quot;value&quot;:&quot;(\\w*)&quot;,&quot;color&quot;:&quot;2C6EA4&quot;\\},\\{&quot;label&quot;:&quot;\\w*&quot;,&quot;value&quot;:&quot;(\\w*)&quot;\"\n",
    "    distribution_of_won_rounds = re.findall(pattern_distribution_of_won_rounds, score_page)\n",
    "    if int(total_rounds_played) != 0:\n",
    "        win_round_percent = round((int(rounds_won) / int(total_rounds_played) * 100), 1)\n",
    "        win_ct = round((int(distribution_of_won_rounds[0][0]) / (int(distribution_of_won_rounds[0][0]) + int(distribution_of_won_rounds[0][1])) * 100), 2)\n",
    "        win_t = round((int(distribution_of_won_rounds[0][1]) / (int(distribution_of_won_rounds[0][0]) + int(distribution_of_won_rounds[0][1])) * 100), 2)\n",
    "    else:\n",
    "        win_round_percent = 0\n",
    "        win_ct = 0\n",
    "        win_t = 0\n",
    "    return [win_round_percent, win_ct, win_t]\n",
    "\n",
    "# формирование словаря с информацией по карте\n",
    "def creature_info(map_name, team_page):\n",
    "    d = {}\n",
    "    score = score_page(map_name.lower(), team_page)\n",
    "    l = distribution_of_won_rounds(score)\n",
    "    l.append(win_percent_map(score))\n",
    "    l.append(win_pistol_rounds(score))\n",
    "    d[map_name] = l\n",
    "    return d\n",
    "    \n",
    "# формирование датафрейма с парамтерами для карты map_name\n",
    "def creature_df(map_name):\n",
    "    d = {'link': [link], 'rounds': [0], 'win': [0],\n",
    "         'team1_rank': [team1_rank], 'team1_form_avg_latest': [team1_form_avg_latest], 'team1_form_range_latest': [team1_form_range_latest], \n",
    "         'team1_form_sd_latest': [team1_form_sd_latest], 'team1_form_avg_event': [team1_form_avg_event], 'team1_form_range_event': [team1_form_range_event], \n",
    "         'team1_form_sd_event': [team1_form_sd_event], 'team1_win_round_percent': team1_map_info[map_name][0], \n",
    "         'team1_win_ct': team1_map_info[map_name][1], 'team1_win_t': team1_map_info[map_name][2],\n",
    "         'team1_win_percent_map': team1_map_info[map_name][3], 'team1_win_pistol_rounds': team1_map_info[map_name][4],\n",
    "         'team1_lost_in_wins': [float(team1_avg_rounds[map_name][0].replace('-', '0'))], \n",
    "         'team1_won_in_losses': [float(team1_avg_rounds[map_name][1].replace('-', '0'))], \n",
    "         'team2_rank': [team2_rank], 'team2_form_avg_latest': [team2_form_avg_latest], 'team2_form_range_latest': [team2_form_range_latest], \n",
    "         'team2_form_sd_latest': [team2_form_sd_latest], 'team2_form_avg_event': [team2_form_avg_event], 'team2_form_range_event': [team2_form_range_event], \n",
    "         'team2_form_sd_event': [team2_form_sd_event], 'team2_win_round_percent': team2_map_info[map_name][0], \n",
    "         'team2_win_ct': team2_map_info[map_name][1], 'team2_win_t': team2_map_info[map_name][2],\n",
    "         'team2_win_percent_map': team2_map_info[map_name][3], 'team2_win_pistol_rounds': team2_map_info[map_name][4],\n",
    "         'team2_lost_in_wins': [float(team2_avg_rounds[map_name][0].replace('-', '0'))], \n",
    "         'team2_won_in_losses': [float(team2_avg_rounds[map_name][1].replace('-', '0'))]}\n",
    "    df = pd.DataFrame(d)\n",
    "    return df\n",
    "\n",
    "# перезапись датафрейма\n",
    "def rewrite_csv(map_name):\n",
    "    df1 = pd.read_csv(map_name+'.csv')\n",
    "    df2 = creature_df(map_name)\n",
    "    df = pd.concat([df1, df2])\n",
    "    df.to_csv(map_name+'.csv', index=False)\n",
    "\n",
    "# получаем страницы матча и страницы команд\n",
    "request = get_request(link)\n",
    "team1_page, team2_page = get_team_pages(request)\n",
    "\n",
    "# названия команд\n",
    "team1, team2 = get_team_names(request)\n",
    "\n",
    "# ранги команд\n",
    "team1_rank = int(get_rank(team1_page))\n",
    "team2_rank = int(get_rank(team2_page))\n",
    "\n",
    "# получаем страницу аналитики и формы игроков команд\n",
    "analytics_page = get_analytics_page(request)\n",
    "players_form1, players_form2 = get_players_forms(analytics_page)\n",
    "\n",
    "# статистики (среднее, размах, отклонение) команд за последние 3 месяца\n",
    "team1_form_latest = get_form_latest(players_form1)\n",
    "team2_form_latest = get_form_latest(players_form2)\n",
    "team1_form_avg_latest, team1_form_range_latest, team1_form_sd_latest = get_form_statistics(team1_form_latest)\n",
    "team2_form_avg_latest, team2_form_range_latest, team2_form_sd_latest = get_form_statistics(team2_form_latest)\n",
    "\n",
    "# статистики (среднее, размах, отклонение) команд на текущем турнире\n",
    "team1_form_event = get_form_event(players_form1)\n",
    "team2_form_event = get_form_event(players_form2)\n",
    "team1_form_avg_event, team1_form_range_event, team1_form_sd_event = get_form_statistics(team1_form_event)\n",
    "team2_form_avg_event, team2_form_range_event, team2_form_sd_event = get_form_statistics(team2_form_event)\n",
    "\n",
    "# получаем статистику команд по сыгранным раундам \n",
    "avg_rounds1, avg_rounds2 = get_avg_rounds(analytics_page)\n",
    "team1_avg_rounds = get_avg_rounds_maps(avg_rounds1)\n",
    "team2_avg_rounds = get_avg_rounds_maps(avg_rounds2)\n",
    "\n",
    "'''# инфа на картах\n",
    "team1_map_info = creature_info(team1_page)\n",
    "team2_map_info = creature_info(team2_page)'''\n",
    "\n",
    "'''df_dust2 = creature_df('Dust2')\n",
    "df_mirage = creature_df('Mirage')\n",
    "df_inferno = creature_df('Inferno')\n",
    "df_nuke = creature_df('Nuke')\n",
    "df_train = creature_df('Train')\n",
    "df_overpass = creature_df('Overpass')\n",
    "df_vertigo = creature_df('Vertigo')\n",
    "\n",
    "df_dust2.to_csv('Dust2.csv', index=False)\n",
    "df_mirage.to_csv('Mirage.csv', index=False)\n",
    "df_inferno.to_csv('Inferno.csv', index=False)\n",
    "df_nuke.to_csv('Nuke.csv', index=False)\n",
    "df_train.to_csv('Train.csv', index=False)\n",
    "df_overpass.to_csv('Overpass.csv', index=False)\n",
    "df_vertigo.to_csv('Vertigo.csv', index=False)'''\n",
    "    \n",
    "print('Все ок')\n"
   ]
  },
  {
   "cell_type": "code",
   "execution_count": 25,
   "metadata": {},
   "outputs": [
    {
     "name": "stdout",
     "output_type": "stream",
     "text": [
      "Dust2 - готово\n",
      "Mirage - готово\n",
      "Inferno - готово\n",
      "Nuke - готово\n",
      "Train - готово\n",
      "Overpass - готово\n",
      "Vertigo - готово\n",
      "Парсинг завершен!\n"
     ]
    }
   ],
   "source": [
    "for i in ['Dust2', 'Mirage', 'Inferno', 'Nuke', 'Train', 'Overpass', 'Vertigo']:\n",
    "    team1_map_info = creature_info(i, team1_page)\n",
    "    team2_map_info = creature_info(i, team2_page)\n",
    "    rewrite_csv(i)\n",
    "    df = pd.read_csv(i + '.csv')\n",
    "    #print(df)\n",
    "    time.sleep(100)\n",
    "    print(i, '- готово')\n",
    "print('Парсинг завершен!')"
   ]
  },
  {
   "cell_type": "markdown",
   "metadata": {},
   "source": [
    "# Конец запуска!"
   ]
  },
  {
   "cell_type": "code",
   "execution_count": null,
   "metadata": {},
   "outputs": [],
   "source": []
  },
  {
   "cell_type": "code",
   "execution_count": null,
   "metadata": {},
   "outputs": [],
   "source": []
  },
  {
   "cell_type": "code",
   "execution_count": 11,
   "metadata": {},
   "outputs": [
    {
     "name": "stdout",
     "output_type": "stream",
     "text": [
      "                                                link  rounds  win  team1_rank  \\\n",
      "0  https://www.hltv.org/matches/2342712/gambit-yo...      48    2          31   \n",
      "1  https://www.hltv.org/matches/2342422/geng-vs-l...      25    1          18   \n",
      "2  https://www.hltv.org/matches/2342748/saw-vs-no...      30    2          43   \n",
      "3  https://www.hltv.org/matches/2342814/gambit-yo...       0    0          30   \n",
      "4  https://www.hltv.org/matches/2342815/endpoint-...       0    0          36   \n",
      "\n",
      "   team1_form_avg_latest  team1_form_range_latest  team1_form_sd_latest  \\\n",
      "0                  1.084                     0.30              0.132401   \n",
      "1                  1.006                     0.16              0.069857   \n",
      "2                  1.080                     0.16              0.065955   \n",
      "3                  1.088                     0.29              0.132174   \n",
      "4                  1.076                     0.19              0.075366   \n",
      "\n",
      "   team1_form_avg_event  team1_form_range_event  team1_form_sd_event  ...  \\\n",
      "0                 1.176                    0.47             0.180361  ...   \n",
      "1                 1.060                    0.24             0.104163  ...   \n",
      "2                 1.068                    0.18             0.072938  ...   \n",
      "3                 1.088                    0.29             0.132174  ...   \n",
      "4                 1.076                    0.19             0.075366  ...   \n",
      "\n",
      "   team2_form_avg_event  team2_form_range_event  team2_form_sd_event  \\\n",
      "0                 1.148                    0.41             0.148223   \n",
      "1                 1.014                    0.19             0.072664   \n",
      "2                 1.182                    0.28             0.104738   \n",
      "3                 1.148                    0.36             0.133116   \n",
      "4                 1.134                    0.22             0.080187   \n",
      "\n",
      "   team2_win_round_percent  team2_win_ct  team2_win_t  team2_win_percent_map  \\\n",
      "0                     49.8         57.01        42.99                   37.5   \n",
      "1                     49.0         52.34        47.66                   50.0   \n",
      "2                     50.2         56.06        43.94                   44.4   \n",
      "3                      0.0          0.00         0.00                    0.0   \n",
      "4                     59.0         51.12        48.88                   82.8   \n",
      "\n",
      "   team2_win_pistol_rounds  team2_lost_in_wins  team2_won_in_losses  \n",
      "0                     56.2                7.33                11.80  \n",
      "1                     45.0               11.00                10.00  \n",
      "2                     55.6               11.25                11.80  \n",
      "3                      0.0                0.00                 0.00  \n",
      "4                     41.4                9.76                10.25  \n",
      "\n",
      "[5 rows x 31 columns]\n"
     ]
    }
   ],
   "source": [
    "df = pd.read_csv('Vertigo.csv')\n",
    "print(df)"
   ]
  },
  {
   "cell_type": "code",
   "execution_count": null,
   "metadata": {},
   "outputs": [],
   "source": []
  },
  {
   "cell_type": "code",
   "execution_count": null,
   "metadata": {},
   "outputs": [],
   "source": []
  },
  {
   "cell_type": "code",
   "execution_count": null,
   "metadata": {},
   "outputs": [],
   "source": []
  },
  {
   "cell_type": "code",
   "execution_count": null,
   "metadata": {},
   "outputs": [],
   "source": []
  },
  {
   "cell_type": "code",
   "execution_count": null,
   "metadata": {},
   "outputs": [],
   "source": []
  },
  {
   "cell_type": "markdown",
   "metadata": {},
   "source": [
    "Запись в датафрейм"
   ]
  },
  {
   "cell_type": "code",
   "execution_count": 75,
   "metadata": {},
   "outputs": [
    {
     "data": {
      "text/html": [
       "<div>\n",
       "<style scoped>\n",
       "    .dataframe tbody tr th:only-of-type {\n",
       "        vertical-align: middle;\n",
       "    }\n",
       "\n",
       "    .dataframe tbody tr th {\n",
       "        vertical-align: top;\n",
       "    }\n",
       "\n",
       "    .dataframe thead th {\n",
       "        text-align: right;\n",
       "    }\n",
       "</style>\n",
       "<table border=\"1\" class=\"dataframe\">\n",
       "  <thead>\n",
       "    <tr style=\"text-align: right;\">\n",
       "      <th></th>\n",
       "      <th>link</th>\n",
       "      <th>rounds</th>\n",
       "      <th>win</th>\n",
       "      <th>team1_rank</th>\n",
       "      <th>team1_form_avg_latest</th>\n",
       "      <th>team1_form_range_latest</th>\n",
       "      <th>team1_form_sd_latest</th>\n",
       "      <th>team1_form_avg_event</th>\n",
       "      <th>team1_form_range_event</th>\n",
       "      <th>team1_form_sd_event</th>\n",
       "      <th>...</th>\n",
       "      <th>team2_form_avg_event</th>\n",
       "      <th>team2_form_range_event</th>\n",
       "      <th>team2_form_sd_event</th>\n",
       "      <th>team2_win_round_percent</th>\n",
       "      <th>team2_win_ct</th>\n",
       "      <th>team2_win_t</th>\n",
       "      <th>team2_win_percent_map</th>\n",
       "      <th>team2_win_pistol_rounds</th>\n",
       "      <th>team2_lost_in_wins</th>\n",
       "      <th>team2_won_in_losses</th>\n",
       "    </tr>\n",
       "  </thead>\n",
       "  <tbody>\n",
       "    <tr>\n",
       "      <th>0</th>\n",
       "      <td>https://www.hltv.org/matches/2342568/nordavind...</td>\n",
       "      <td>0</td>\n",
       "      <td>0</td>\n",
       "      <td>41</td>\n",
       "      <td>1.042</td>\n",
       "      <td>0.06</td>\n",
       "      <td>0.023875</td>\n",
       "      <td>1.042</td>\n",
       "      <td>0.06</td>\n",
       "      <td>0.023875</td>\n",
       "      <td>...</td>\n",
       "      <td>1.05</td>\n",
       "      <td>0.25</td>\n",
       "      <td>0.089443</td>\n",
       "      <td>54.2</td>\n",
       "      <td>41.67</td>\n",
       "      <td>58.33</td>\n",
       "      <td>50.0</td>\n",
       "      <td>50.0</td>\n",
       "      <td>8.5</td>\n",
       "      <td>11.2</td>\n",
       "    </tr>\n",
       "  </tbody>\n",
       "</table>\n",
       "<p>1 rows × 31 columns</p>\n",
       "</div>"
      ],
      "text/plain": [
       "                                                link  rounds  win  team1_rank  \\\n",
       "0  https://www.hltv.org/matches/2342568/nordavind...       0    0          41   \n",
       "\n",
       "   team1_form_avg_latest  team1_form_range_latest  team1_form_sd_latest  \\\n",
       "0                  1.042                     0.06              0.023875   \n",
       "\n",
       "   team1_form_avg_event  team1_form_range_event  team1_form_sd_event  ...  \\\n",
       "0                 1.042                    0.06             0.023875  ...   \n",
       "\n",
       "   team2_form_avg_event  team2_form_range_event  team2_form_sd_event  \\\n",
       "0                  1.05                    0.25             0.089443   \n",
       "\n",
       "   team2_win_round_percent  team2_win_ct  team2_win_t  team2_win_percent_map  \\\n",
       "0                     54.2         41.67        58.33                   50.0   \n",
       "\n",
       "   team2_win_pistol_rounds  team2_lost_in_wins  team2_won_in_losses  \n",
       "0                     50.0                 8.5                 11.2  \n",
       "\n",
       "[1 rows x 31 columns]"
      ]
     },
     "execution_count": 75,
     "metadata": {},
     "output_type": "execute_result"
    }
   ],
   "source": [
    "team1_map_info = creature_info('Dust2', team1_page)\n",
    "team2_map_info = creature_info('Dust2', team2_page)\n",
    "df_dust2 = creature_df('Dust2')\n",
    "df_dust2.to_csv('Dust2.csv', index=False)\n",
    "df = pd.read_csv('Dust2.csv')\n",
    "df"
   ]
  },
  {
   "cell_type": "code",
   "execution_count": 76,
   "metadata": {},
   "outputs": [
    {
     "data": {
      "text/html": [
       "<div>\n",
       "<style scoped>\n",
       "    .dataframe tbody tr th:only-of-type {\n",
       "        vertical-align: middle;\n",
       "    }\n",
       "\n",
       "    .dataframe tbody tr th {\n",
       "        vertical-align: top;\n",
       "    }\n",
       "\n",
       "    .dataframe thead th {\n",
       "        text-align: right;\n",
       "    }\n",
       "</style>\n",
       "<table border=\"1\" class=\"dataframe\">\n",
       "  <thead>\n",
       "    <tr style=\"text-align: right;\">\n",
       "      <th></th>\n",
       "      <th>link</th>\n",
       "      <th>rounds</th>\n",
       "      <th>win</th>\n",
       "      <th>team1_rank</th>\n",
       "      <th>team1_form_avg_latest</th>\n",
       "      <th>team1_form_range_latest</th>\n",
       "      <th>team1_form_sd_latest</th>\n",
       "      <th>team1_form_avg_event</th>\n",
       "      <th>team1_form_range_event</th>\n",
       "      <th>team1_form_sd_event</th>\n",
       "      <th>...</th>\n",
       "      <th>team2_form_avg_event</th>\n",
       "      <th>team2_form_range_event</th>\n",
       "      <th>team2_form_sd_event</th>\n",
       "      <th>team2_win_round_percent</th>\n",
       "      <th>team2_win_ct</th>\n",
       "      <th>team2_win_t</th>\n",
       "      <th>team2_win_percent_map</th>\n",
       "      <th>team2_win_pistol_rounds</th>\n",
       "      <th>team2_lost_in_wins</th>\n",
       "      <th>team2_won_in_losses</th>\n",
       "    </tr>\n",
       "  </thead>\n",
       "  <tbody>\n",
       "    <tr>\n",
       "      <th>0</th>\n",
       "      <td>https://www.hltv.org/matches/2342568/nordavind...</td>\n",
       "      <td>0</td>\n",
       "      <td>0</td>\n",
       "      <td>41</td>\n",
       "      <td>1.042</td>\n",
       "      <td>0.06</td>\n",
       "      <td>0.023875</td>\n",
       "      <td>1.042</td>\n",
       "      <td>0.06</td>\n",
       "      <td>0.023875</td>\n",
       "      <td>...</td>\n",
       "      <td>1.05</td>\n",
       "      <td>0.25</td>\n",
       "      <td>0.089443</td>\n",
       "      <td>44.4</td>\n",
       "      <td>54.97</td>\n",
       "      <td>45.03</td>\n",
       "      <td>18.8</td>\n",
       "      <td>50.0</td>\n",
       "      <td>10.33</td>\n",
       "      <td>10.2</td>\n",
       "    </tr>\n",
       "  </tbody>\n",
       "</table>\n",
       "<p>1 rows × 31 columns</p>\n",
       "</div>"
      ],
      "text/plain": [
       "                                                link  rounds  win  team1_rank  \\\n",
       "0  https://www.hltv.org/matches/2342568/nordavind...       0    0          41   \n",
       "\n",
       "   team1_form_avg_latest  team1_form_range_latest  team1_form_sd_latest  \\\n",
       "0                  1.042                     0.06              0.023875   \n",
       "\n",
       "   team1_form_avg_event  team1_form_range_event  team1_form_sd_event  ...  \\\n",
       "0                 1.042                    0.06             0.023875  ...   \n",
       "\n",
       "   team2_form_avg_event  team2_form_range_event  team2_form_sd_event  \\\n",
       "0                  1.05                    0.25             0.089443   \n",
       "\n",
       "   team2_win_round_percent  team2_win_ct  team2_win_t  team2_win_percent_map  \\\n",
       "0                     44.4         54.97        45.03                   18.8   \n",
       "\n",
       "   team2_win_pistol_rounds  team2_lost_in_wins  team2_won_in_losses  \n",
       "0                     50.0               10.33                 10.2  \n",
       "\n",
       "[1 rows x 31 columns]"
      ]
     },
     "execution_count": 76,
     "metadata": {},
     "output_type": "execute_result"
    }
   ],
   "source": [
    "team1_map_info = creature_info('Mirage', team1_page)\n",
    "team2_map_info = creature_info('Mirage', team2_page)\n",
    "df_dust2 = creature_df('Mirage')\n",
    "df_dust2.to_csv('Mirage.csv', index=False)\n",
    "df = pd.read_csv('Mirage.csv')\n",
    "df"
   ]
  },
  {
   "cell_type": "code",
   "execution_count": 77,
   "metadata": {},
   "outputs": [
    {
     "data": {
      "text/html": [
       "<div>\n",
       "<style scoped>\n",
       "    .dataframe tbody tr th:only-of-type {\n",
       "        vertical-align: middle;\n",
       "    }\n",
       "\n",
       "    .dataframe tbody tr th {\n",
       "        vertical-align: top;\n",
       "    }\n",
       "\n",
       "    .dataframe thead th {\n",
       "        text-align: right;\n",
       "    }\n",
       "</style>\n",
       "<table border=\"1\" class=\"dataframe\">\n",
       "  <thead>\n",
       "    <tr style=\"text-align: right;\">\n",
       "      <th></th>\n",
       "      <th>link</th>\n",
       "      <th>rounds</th>\n",
       "      <th>win</th>\n",
       "      <th>team1_rank</th>\n",
       "      <th>team1_form_avg_latest</th>\n",
       "      <th>team1_form_range_latest</th>\n",
       "      <th>team1_form_sd_latest</th>\n",
       "      <th>team1_form_avg_event</th>\n",
       "      <th>team1_form_range_event</th>\n",
       "      <th>team1_form_sd_event</th>\n",
       "      <th>...</th>\n",
       "      <th>team2_form_avg_event</th>\n",
       "      <th>team2_form_range_event</th>\n",
       "      <th>team2_form_sd_event</th>\n",
       "      <th>team2_win_round_percent</th>\n",
       "      <th>team2_win_ct</th>\n",
       "      <th>team2_win_t</th>\n",
       "      <th>team2_win_percent_map</th>\n",
       "      <th>team2_win_pistol_rounds</th>\n",
       "      <th>team2_lost_in_wins</th>\n",
       "      <th>team2_won_in_losses</th>\n",
       "    </tr>\n",
       "  </thead>\n",
       "  <tbody>\n",
       "    <tr>\n",
       "      <th>0</th>\n",
       "      <td>https://www.hltv.org/matches/2342568/nordavind...</td>\n",
       "      <td>0</td>\n",
       "      <td>0</td>\n",
       "      <td>41</td>\n",
       "      <td>1.042</td>\n",
       "      <td>0.06</td>\n",
       "      <td>0.023875</td>\n",
       "      <td>1.042</td>\n",
       "      <td>0.06</td>\n",
       "      <td>0.023875</td>\n",
       "      <td>...</td>\n",
       "      <td>1.05</td>\n",
       "      <td>0.25</td>\n",
       "      <td>0.089443</td>\n",
       "      <td>51.1</td>\n",
       "      <td>49.44</td>\n",
       "      <td>50.56</td>\n",
       "      <td>57.1</td>\n",
       "      <td>35.7</td>\n",
       "      <td>8.67</td>\n",
       "      <td>8.33</td>\n",
       "    </tr>\n",
       "  </tbody>\n",
       "</table>\n",
       "<p>1 rows × 31 columns</p>\n",
       "</div>"
      ],
      "text/plain": [
       "                                                link  rounds  win  team1_rank  \\\n",
       "0  https://www.hltv.org/matches/2342568/nordavind...       0    0          41   \n",
       "\n",
       "   team1_form_avg_latest  team1_form_range_latest  team1_form_sd_latest  \\\n",
       "0                  1.042                     0.06              0.023875   \n",
       "\n",
       "   team1_form_avg_event  team1_form_range_event  team1_form_sd_event  ...  \\\n",
       "0                 1.042                    0.06             0.023875  ...   \n",
       "\n",
       "   team2_form_avg_event  team2_form_range_event  team2_form_sd_event  \\\n",
       "0                  1.05                    0.25             0.089443   \n",
       "\n",
       "   team2_win_round_percent  team2_win_ct  team2_win_t  team2_win_percent_map  \\\n",
       "0                     51.1         49.44        50.56                   57.1   \n",
       "\n",
       "   team2_win_pistol_rounds  team2_lost_in_wins  team2_won_in_losses  \n",
       "0                     35.7                8.67                 8.33  \n",
       "\n",
       "[1 rows x 31 columns]"
      ]
     },
     "execution_count": 77,
     "metadata": {},
     "output_type": "execute_result"
    }
   ],
   "source": [
    "team1_map_info = creature_info('Inferno', team1_page)\n",
    "team2_map_info = creature_info('Inferno', team2_page)\n",
    "df_dust2 = creature_df('Inferno')\n",
    "df_dust2.to_csv('Inferno.csv', index=False)\n",
    "df = pd.read_csv('Inferno.csv')\n",
    "df"
   ]
  },
  {
   "cell_type": "code",
   "execution_count": 78,
   "metadata": {},
   "outputs": [
    {
     "data": {
      "text/html": [
       "<div>\n",
       "<style scoped>\n",
       "    .dataframe tbody tr th:only-of-type {\n",
       "        vertical-align: middle;\n",
       "    }\n",
       "\n",
       "    .dataframe tbody tr th {\n",
       "        vertical-align: top;\n",
       "    }\n",
       "\n",
       "    .dataframe thead th {\n",
       "        text-align: right;\n",
       "    }\n",
       "</style>\n",
       "<table border=\"1\" class=\"dataframe\">\n",
       "  <thead>\n",
       "    <tr style=\"text-align: right;\">\n",
       "      <th></th>\n",
       "      <th>link</th>\n",
       "      <th>rounds</th>\n",
       "      <th>win</th>\n",
       "      <th>team1_rank</th>\n",
       "      <th>team1_form_avg_latest</th>\n",
       "      <th>team1_form_range_latest</th>\n",
       "      <th>team1_form_sd_latest</th>\n",
       "      <th>team1_form_avg_event</th>\n",
       "      <th>team1_form_range_event</th>\n",
       "      <th>team1_form_sd_event</th>\n",
       "      <th>...</th>\n",
       "      <th>team2_form_avg_event</th>\n",
       "      <th>team2_form_range_event</th>\n",
       "      <th>team2_form_sd_event</th>\n",
       "      <th>team2_win_round_percent</th>\n",
       "      <th>team2_win_ct</th>\n",
       "      <th>team2_win_t</th>\n",
       "      <th>team2_win_percent_map</th>\n",
       "      <th>team2_win_pistol_rounds</th>\n",
       "      <th>team2_lost_in_wins</th>\n",
       "      <th>team2_won_in_losses</th>\n",
       "    </tr>\n",
       "  </thead>\n",
       "  <tbody>\n",
       "    <tr>\n",
       "      <th>0</th>\n",
       "      <td>https://www.hltv.org/matches/2342568/nordavind...</td>\n",
       "      <td>0</td>\n",
       "      <td>0</td>\n",
       "      <td>41</td>\n",
       "      <td>1.042</td>\n",
       "      <td>0.06</td>\n",
       "      <td>0.023875</td>\n",
       "      <td>1.042</td>\n",
       "      <td>0.06</td>\n",
       "      <td>0.023875</td>\n",
       "      <td>...</td>\n",
       "      <td>1.05</td>\n",
       "      <td>0.25</td>\n",
       "      <td>0.089443</td>\n",
       "      <td>50.5</td>\n",
       "      <td>54.25</td>\n",
       "      <td>45.75</td>\n",
       "      <td>52.9</td>\n",
       "      <td>55.9</td>\n",
       "      <td>9.2</td>\n",
       "      <td>8.0</td>\n",
       "    </tr>\n",
       "  </tbody>\n",
       "</table>\n",
       "<p>1 rows × 31 columns</p>\n",
       "</div>"
      ],
      "text/plain": [
       "                                                link  rounds  win  team1_rank  \\\n",
       "0  https://www.hltv.org/matches/2342568/nordavind...       0    0          41   \n",
       "\n",
       "   team1_form_avg_latest  team1_form_range_latest  team1_form_sd_latest  \\\n",
       "0                  1.042                     0.06              0.023875   \n",
       "\n",
       "   team1_form_avg_event  team1_form_range_event  team1_form_sd_event  ...  \\\n",
       "0                 1.042                    0.06             0.023875  ...   \n",
       "\n",
       "   team2_form_avg_event  team2_form_range_event  team2_form_sd_event  \\\n",
       "0                  1.05                    0.25             0.089443   \n",
       "\n",
       "   team2_win_round_percent  team2_win_ct  team2_win_t  team2_win_percent_map  \\\n",
       "0                     50.5         54.25        45.75                   52.9   \n",
       "\n",
       "   team2_win_pistol_rounds  team2_lost_in_wins  team2_won_in_losses  \n",
       "0                     55.9                 9.2                  8.0  \n",
       "\n",
       "[1 rows x 31 columns]"
      ]
     },
     "execution_count": 78,
     "metadata": {},
     "output_type": "execute_result"
    }
   ],
   "source": [
    "team1_map_info = creature_info('Nuke', team1_page)\n",
    "team2_map_info = creature_info('Nuke', team2_page)\n",
    "df_dust2 = creature_df('Nuke')\n",
    "df_dust2.to_csv('Nuke.csv', index=False)\n",
    "df = pd.read_csv('Nuke.csv')\n",
    "df"
   ]
  },
  {
   "cell_type": "code",
   "execution_count": 79,
   "metadata": {},
   "outputs": [
    {
     "data": {
      "text/html": [
       "<div>\n",
       "<style scoped>\n",
       "    .dataframe tbody tr th:only-of-type {\n",
       "        vertical-align: middle;\n",
       "    }\n",
       "\n",
       "    .dataframe tbody tr th {\n",
       "        vertical-align: top;\n",
       "    }\n",
       "\n",
       "    .dataframe thead th {\n",
       "        text-align: right;\n",
       "    }\n",
       "</style>\n",
       "<table border=\"1\" class=\"dataframe\">\n",
       "  <thead>\n",
       "    <tr style=\"text-align: right;\">\n",
       "      <th></th>\n",
       "      <th>link</th>\n",
       "      <th>rounds</th>\n",
       "      <th>win</th>\n",
       "      <th>team1_rank</th>\n",
       "      <th>team1_form_avg_latest</th>\n",
       "      <th>team1_form_range_latest</th>\n",
       "      <th>team1_form_sd_latest</th>\n",
       "      <th>team1_form_avg_event</th>\n",
       "      <th>team1_form_range_event</th>\n",
       "      <th>team1_form_sd_event</th>\n",
       "      <th>...</th>\n",
       "      <th>team2_form_avg_event</th>\n",
       "      <th>team2_form_range_event</th>\n",
       "      <th>team2_form_sd_event</th>\n",
       "      <th>team2_win_round_percent</th>\n",
       "      <th>team2_win_ct</th>\n",
       "      <th>team2_win_t</th>\n",
       "      <th>team2_win_percent_map</th>\n",
       "      <th>team2_win_pistol_rounds</th>\n",
       "      <th>team2_lost_in_wins</th>\n",
       "      <th>team2_won_in_losses</th>\n",
       "    </tr>\n",
       "  </thead>\n",
       "  <tbody>\n",
       "    <tr>\n",
       "      <th>0</th>\n",
       "      <td>https://www.hltv.org/matches/2342568/nordavind...</td>\n",
       "      <td>0</td>\n",
       "      <td>0</td>\n",
       "      <td>41</td>\n",
       "      <td>1.042</td>\n",
       "      <td>0.06</td>\n",
       "      <td>0.023875</td>\n",
       "      <td>1.042</td>\n",
       "      <td>0.06</td>\n",
       "      <td>0.023875</td>\n",
       "      <td>...</td>\n",
       "      <td>1.05</td>\n",
       "      <td>0.25</td>\n",
       "      <td>0.089443</td>\n",
       "      <td>49.0</td>\n",
       "      <td>55.09</td>\n",
       "      <td>44.91</td>\n",
       "      <td>50.0</td>\n",
       "      <td>62.5</td>\n",
       "      <td>11.5</td>\n",
       "      <td>11.75</td>\n",
       "    </tr>\n",
       "  </tbody>\n",
       "</table>\n",
       "<p>1 rows × 31 columns</p>\n",
       "</div>"
      ],
      "text/plain": [
       "                                                link  rounds  win  team1_rank  \\\n",
       "0  https://www.hltv.org/matches/2342568/nordavind...       0    0          41   \n",
       "\n",
       "   team1_form_avg_latest  team1_form_range_latest  team1_form_sd_latest  \\\n",
       "0                  1.042                     0.06              0.023875   \n",
       "\n",
       "   team1_form_avg_event  team1_form_range_event  team1_form_sd_event  ...  \\\n",
       "0                 1.042                    0.06             0.023875  ...   \n",
       "\n",
       "   team2_form_avg_event  team2_form_range_event  team2_form_sd_event  \\\n",
       "0                  1.05                    0.25             0.089443   \n",
       "\n",
       "   team2_win_round_percent  team2_win_ct  team2_win_t  team2_win_percent_map  \\\n",
       "0                     49.0         55.09        44.91                   50.0   \n",
       "\n",
       "   team2_win_pistol_rounds  team2_lost_in_wins  team2_won_in_losses  \n",
       "0                     62.5                11.5                11.75  \n",
       "\n",
       "[1 rows x 31 columns]"
      ]
     },
     "execution_count": 79,
     "metadata": {},
     "output_type": "execute_result"
    }
   ],
   "source": [
    "team1_map_info = creature_info('Train', team1_page)\n",
    "team2_map_info = creature_info('Train', team2_page)\n",
    "df_dust2 = creature_df('Train')\n",
    "df_dust2.to_csv('Train.csv', index=False)\n",
    "df = pd.read_csv('Train.csv')\n",
    "df"
   ]
  },
  {
   "cell_type": "code",
   "execution_count": 80,
   "metadata": {},
   "outputs": [
    {
     "data": {
      "text/html": [
       "<div>\n",
       "<style scoped>\n",
       "    .dataframe tbody tr th:only-of-type {\n",
       "        vertical-align: middle;\n",
       "    }\n",
       "\n",
       "    .dataframe tbody tr th {\n",
       "        vertical-align: top;\n",
       "    }\n",
       "\n",
       "    .dataframe thead th {\n",
       "        text-align: right;\n",
       "    }\n",
       "</style>\n",
       "<table border=\"1\" class=\"dataframe\">\n",
       "  <thead>\n",
       "    <tr style=\"text-align: right;\">\n",
       "      <th></th>\n",
       "      <th>link</th>\n",
       "      <th>rounds</th>\n",
       "      <th>win</th>\n",
       "      <th>team1_rank</th>\n",
       "      <th>team1_form_avg_latest</th>\n",
       "      <th>team1_form_range_latest</th>\n",
       "      <th>team1_form_sd_latest</th>\n",
       "      <th>team1_form_avg_event</th>\n",
       "      <th>team1_form_range_event</th>\n",
       "      <th>team1_form_sd_event</th>\n",
       "      <th>...</th>\n",
       "      <th>team2_form_avg_event</th>\n",
       "      <th>team2_form_range_event</th>\n",
       "      <th>team2_form_sd_event</th>\n",
       "      <th>team2_win_round_percent</th>\n",
       "      <th>team2_win_ct</th>\n",
       "      <th>team2_win_t</th>\n",
       "      <th>team2_win_percent_map</th>\n",
       "      <th>team2_win_pistol_rounds</th>\n",
       "      <th>team2_lost_in_wins</th>\n",
       "      <th>team2_won_in_losses</th>\n",
       "    </tr>\n",
       "  </thead>\n",
       "  <tbody>\n",
       "    <tr>\n",
       "      <th>0</th>\n",
       "      <td>https://www.hltv.org/matches/2342568/nordavind...</td>\n",
       "      <td>0</td>\n",
       "      <td>0</td>\n",
       "      <td>41</td>\n",
       "      <td>1.042</td>\n",
       "      <td>0.06</td>\n",
       "      <td>0.023875</td>\n",
       "      <td>1.042</td>\n",
       "      <td>0.06</td>\n",
       "      <td>0.023875</td>\n",
       "      <td>...</td>\n",
       "      <td>1.05</td>\n",
       "      <td>0.25</td>\n",
       "      <td>0.089443</td>\n",
       "      <td>44.2</td>\n",
       "      <td>54.0</td>\n",
       "      <td>46.0</td>\n",
       "      <td>25.0</td>\n",
       "      <td>50.0</td>\n",
       "      <td>15.0</td>\n",
       "      <td>11.5</td>\n",
       "    </tr>\n",
       "  </tbody>\n",
       "</table>\n",
       "<p>1 rows × 31 columns</p>\n",
       "</div>"
      ],
      "text/plain": [
       "                                                link  rounds  win  team1_rank  \\\n",
       "0  https://www.hltv.org/matches/2342568/nordavind...       0    0          41   \n",
       "\n",
       "   team1_form_avg_latest  team1_form_range_latest  team1_form_sd_latest  \\\n",
       "0                  1.042                     0.06              0.023875   \n",
       "\n",
       "   team1_form_avg_event  team1_form_range_event  team1_form_sd_event  ...  \\\n",
       "0                 1.042                    0.06             0.023875  ...   \n",
       "\n",
       "   team2_form_avg_event  team2_form_range_event  team2_form_sd_event  \\\n",
       "0                  1.05                    0.25             0.089443   \n",
       "\n",
       "   team2_win_round_percent  team2_win_ct  team2_win_t  team2_win_percent_map  \\\n",
       "0                     44.2          54.0         46.0                   25.0   \n",
       "\n",
       "   team2_win_pistol_rounds  team2_lost_in_wins  team2_won_in_losses  \n",
       "0                     50.0                15.0                 11.5  \n",
       "\n",
       "[1 rows x 31 columns]"
      ]
     },
     "execution_count": 80,
     "metadata": {},
     "output_type": "execute_result"
    }
   ],
   "source": [
    "team1_map_info = creature_info('Overpass', team1_page)\n",
    "team2_map_info = creature_info('Overpass', team2_page)\n",
    "df_dust2 = creature_df('Overpass')\n",
    "df_dust2.to_csv('Overpass.csv', index=False)\n",
    "df = pd.read_csv('Overpass.csv')\n",
    "df"
   ]
  },
  {
   "cell_type": "code",
   "execution_count": 81,
   "metadata": {},
   "outputs": [
    {
     "data": {
      "text/html": [
       "<div>\n",
       "<style scoped>\n",
       "    .dataframe tbody tr th:only-of-type {\n",
       "        vertical-align: middle;\n",
       "    }\n",
       "\n",
       "    .dataframe tbody tr th {\n",
       "        vertical-align: top;\n",
       "    }\n",
       "\n",
       "    .dataframe thead th {\n",
       "        text-align: right;\n",
       "    }\n",
       "</style>\n",
       "<table border=\"1\" class=\"dataframe\">\n",
       "  <thead>\n",
       "    <tr style=\"text-align: right;\">\n",
       "      <th></th>\n",
       "      <th>link</th>\n",
       "      <th>rounds</th>\n",
       "      <th>win</th>\n",
       "      <th>team1_rank</th>\n",
       "      <th>team1_form_avg_latest</th>\n",
       "      <th>team1_form_range_latest</th>\n",
       "      <th>team1_form_sd_latest</th>\n",
       "      <th>team1_form_avg_event</th>\n",
       "      <th>team1_form_range_event</th>\n",
       "      <th>team1_form_sd_event</th>\n",
       "      <th>...</th>\n",
       "      <th>team2_form_avg_event</th>\n",
       "      <th>team2_form_range_event</th>\n",
       "      <th>team2_form_sd_event</th>\n",
       "      <th>team2_win_round_percent</th>\n",
       "      <th>team2_win_ct</th>\n",
       "      <th>team2_win_t</th>\n",
       "      <th>team2_win_percent_map</th>\n",
       "      <th>team2_win_pistol_rounds</th>\n",
       "      <th>team2_lost_in_wins</th>\n",
       "      <th>team2_won_in_losses</th>\n",
       "    </tr>\n",
       "  </thead>\n",
       "  <tbody>\n",
       "    <tr>\n",
       "      <th>0</th>\n",
       "      <td>https://www.hltv.org/matches/2342568/nordavind...</td>\n",
       "      <td>0</td>\n",
       "      <td>0</td>\n",
       "      <td>41</td>\n",
       "      <td>1.042</td>\n",
       "      <td>0.06</td>\n",
       "      <td>0.023875</td>\n",
       "      <td>1.042</td>\n",
       "      <td>0.06</td>\n",
       "      <td>0.023875</td>\n",
       "      <td>...</td>\n",
       "      <td>1.05</td>\n",
       "      <td>0.25</td>\n",
       "      <td>0.089443</td>\n",
       "      <td>53.5</td>\n",
       "      <td>46.61</td>\n",
       "      <td>53.39</td>\n",
       "      <td>71.4</td>\n",
       "      <td>60.7</td>\n",
       "      <td>11.17</td>\n",
       "      <td>13.75</td>\n",
       "    </tr>\n",
       "  </tbody>\n",
       "</table>\n",
       "<p>1 rows × 31 columns</p>\n",
       "</div>"
      ],
      "text/plain": [
       "                                                link  rounds  win  team1_rank  \\\n",
       "0  https://www.hltv.org/matches/2342568/nordavind...       0    0          41   \n",
       "\n",
       "   team1_form_avg_latest  team1_form_range_latest  team1_form_sd_latest  \\\n",
       "0                  1.042                     0.06              0.023875   \n",
       "\n",
       "   team1_form_avg_event  team1_form_range_event  team1_form_sd_event  ...  \\\n",
       "0                 1.042                    0.06             0.023875  ...   \n",
       "\n",
       "   team2_form_avg_event  team2_form_range_event  team2_form_sd_event  \\\n",
       "0                  1.05                    0.25             0.089443   \n",
       "\n",
       "   team2_win_round_percent  team2_win_ct  team2_win_t  team2_win_percent_map  \\\n",
       "0                     53.5         46.61        53.39                   71.4   \n",
       "\n",
       "   team2_win_pistol_rounds  team2_lost_in_wins  team2_won_in_losses  \n",
       "0                     60.7               11.17                13.75  \n",
       "\n",
       "[1 rows x 31 columns]"
      ]
     },
     "execution_count": 81,
     "metadata": {},
     "output_type": "execute_result"
    }
   ],
   "source": [
    "team1_map_info = creature_info('Vertigo', team1_page)\n",
    "team2_map_info = creature_info('Vertigo', team2_page)\n",
    "df_dust2 = creature_df('Vertigo')\n",
    "df_dust2.to_csv('Vertigo.csv', index=False)\n",
    "df = pd.read_csv('Vertigo.csv')\n",
    "df"
   ]
  },
  {
   "cell_type": "code",
   "execution_count": null,
   "metadata": {},
   "outputs": [],
   "source": []
  },
  {
   "cell_type": "code",
   "execution_count": null,
   "metadata": {},
   "outputs": [],
   "source": []
  },
  {
   "cell_type": "code",
   "execution_count": 1,
   "metadata": {},
   "outputs": [
    {
     "data": {
      "text/plain": [
       "[1, 4, 9]"
      ]
     },
     "execution_count": 1,
     "metadata": {},
     "output_type": "execute_result"
    }
   ],
   "source": [
    "a = [1, 2, 3]\n",
    "b = [i*i for i in a]\n",
    "b"
   ]
  },
  {
   "cell_type": "code",
   "execution_count": 14,
   "metadata": {},
   "outputs": [
    {
     "name": "stdout",
     "output_type": "stream",
     "text": [
      "1\n",
      "4\n",
      "9\n",
      "16\n",
      "25\n"
     ]
    },
    {
     "data": {
      "text/plain": [
       "4"
      ]
     },
     "execution_count": 14,
     "metadata": {},
     "output_type": "execute_result"
    }
   ],
   "source": [
    "def gen(count):\n",
    "    for i in range(1,count+1):\n",
    "        yield i*i\n",
    "\n",
    "b = gen(5)\n",
    "for i in b:\n",
    "    print(i)\n",
    "    \n",
    "c = (i*i for i in range(1,6))\n",
    "next(c)\n",
    "next(c)"
   ]
  },
  {
   "cell_type": "code",
   "execution_count": null,
   "metadata": {},
   "outputs": [],
   "source": []
  },
  {
   "cell_type": "code",
   "execution_count": null,
   "metadata": {},
   "outputs": [],
   "source": []
  },
  {
   "cell_type": "markdown",
   "metadata": {},
   "source": [
    "# Предсказания"
   ]
  },
  {
   "cell_type": "code",
   "execution_count": 3,
   "metadata": {},
   "outputs": [],
   "source": [
    "import pandas as pd\n",
    "from sklearn.ensemble import RandomForestClassifier, RandomForestRegressor\n",
    "from sklearn.model_selection import GridSearchCV"
   ]
  },
  {
   "cell_type": "markdown",
   "metadata": {},
   "source": [
    "# Классификация"
   ]
  },
  {
   "cell_type": "markdown",
   "metadata": {},
   "source": [
    "## Инферно"
   ]
  },
  {
   "cell_type": "markdown",
   "metadata": {},
   "source": [
    "### Загрузка обучающей выборки"
   ]
  },
  {
   "cell_type": "code",
   "execution_count": 26,
   "metadata": {},
   "outputs": [],
   "source": [
    "df = pd.read_csv('Inferno_train.csv')\n",
    "x_train = df.drop(['link', 'rounds', 'win'], axis=1)\n",
    "y_train = df.win\n",
    "y_train = y_train.astype('int')"
   ]
  },
  {
   "cell_type": "markdown",
   "metadata": {},
   "source": [
    "### Загрузка тестовой выборки"
   ]
  },
  {
   "cell_type": "code",
   "execution_count": 27,
   "metadata": {},
   "outputs": [],
   "source": [
    "df_test = pd.read_csv('Inferno_test.csv')\n",
    "x_test = df_test.drop(['link', 'rounds', 'win'], axis=1)"
   ]
  },
  {
   "cell_type": "markdown",
   "metadata": {},
   "source": [
    "### Выбираем лучшие параметры"
   ]
  },
  {
   "cell_type": "code",
   "execution_count": 28,
   "metadata": {},
   "outputs": [
    {
     "name": "stderr",
     "output_type": "stream",
     "text": [
      "C:\\Users\\Kereat\\Anaconda3\\lib\\site-packages\\sklearn\\model_selection\\_search.py:813: DeprecationWarning: The default of the `iid` parameter will change from True to False in version 0.22 and will be removed in 0.24. This will change numeric results when test-set sizes are unequal.\n",
      "  DeprecationWarning)\n"
     ]
    },
    {
     "data": {
      "text/plain": [
       "RandomForestClassifier(bootstrap=True, class_weight=None, criterion='gini',\n",
       "                       max_depth=3, max_features='auto', max_leaf_nodes=None,\n",
       "                       min_impurity_decrease=0.0, min_impurity_split=None,\n",
       "                       min_samples_leaf=2, min_samples_split=2,\n",
       "                       min_weight_fraction_leaf=0.0, n_estimators=20,\n",
       "                       n_jobs=None, oob_score=False, random_state=0, verbose=0,\n",
       "                       warm_start=False)"
      ]
     },
     "execution_count": 28,
     "metadata": {},
     "output_type": "execute_result"
    }
   ],
   "source": [
    "rf = RandomForestClassifier(random_state=0)\n",
    "parametrs = {'n_estimators': range(10, 50, 10),\n",
    "             'max_depth': range(1, 12, 2),\n",
    "             'min_samples_leaf': range(1, 7),\n",
    "             'min_samples_split': range(2, 9, 2)}\n",
    "gsrd = GridSearchCV(rf, parametrs, cv=3, n_jobs=-1)\n",
    "gsrd.estimator\n",
    "gsrd.fit(x_train, y_train)\n",
    "gsrd.best_estimator_.fit(x_train, y_train)"
   ]
  },
  {
   "cell_type": "markdown",
   "metadata": {},
   "source": [
    "### Получаем предсказание"
   ]
  },
  {
   "cell_type": "code",
   "execution_count": 29,
   "metadata": {},
   "outputs": [
    {
     "data": {
      "text/plain": [
       "2"
      ]
     },
     "execution_count": 29,
     "metadata": {},
     "output_type": "execute_result"
    }
   ],
   "source": [
    "gsrd.predict(x_test)[0]"
   ]
  },
  {
   "cell_type": "markdown",
   "metadata": {},
   "source": [
    "### Делаем предсказания на основе 1000 прогонов"
   ]
  },
  {
   "cell_type": "code",
   "execution_count": 30,
   "metadata": {},
   "outputs": [
    {
     "name": "stdout",
     "output_type": "stream",
     "text": [
      "1.542\n"
     ]
    }
   ],
   "source": [
    "i = 0\n",
    "r = 0\n",
    "while i < 1000:\n",
    "    rf = RandomForestClassifier(n_estimators=20, max_depth=3, min_samples_leaf=2, min_samples_split=2)\n",
    "    rf.fit(x_train, y_train)\n",
    "    predictions = rf.predict(x_test)\n",
    "    i += 1\n",
    "    r += predictions[0]\n",
    "print(r / 1000)"
   ]
  },
  {
   "cell_type": "markdown",
   "metadata": {},
   "source": [
    "# Mirage"
   ]
  },
  {
   "cell_type": "markdown",
   "metadata": {},
   "source": [
    "### Загрузка обучающей выборки"
   ]
  },
  {
   "cell_type": "code",
   "execution_count": 31,
   "metadata": {},
   "outputs": [],
   "source": [
    "df = pd.read_csv('Mirage_train.csv')\n",
    "x_train = df.drop(['link', 'rounds', 'win'], axis=1)\n",
    "y_train = df.win\n",
    "y_train = y_train.astype('int')"
   ]
  },
  {
   "cell_type": "markdown",
   "metadata": {},
   "source": [
    "### Загрузка тестовой выборки"
   ]
  },
  {
   "cell_type": "code",
   "execution_count": 32,
   "metadata": {},
   "outputs": [],
   "source": [
    "df_test = pd.read_csv('Mirage_test.csv')\n",
    "x_test = df_test.drop(['link', 'rounds', 'win'], axis=1)"
   ]
  },
  {
   "cell_type": "markdown",
   "metadata": {},
   "source": [
    "### Выбираем лучшие параметры"
   ]
  },
  {
   "cell_type": "code",
   "execution_count": 33,
   "metadata": {},
   "outputs": [
    {
     "name": "stderr",
     "output_type": "stream",
     "text": [
      "C:\\Users\\Kereat\\Anaconda3\\lib\\site-packages\\sklearn\\model_selection\\_split.py:657: Warning: The least populated class in y has only 1 members, which is too few. The minimum number of members in any class cannot be less than n_splits=3.\n",
      "  % (min_groups, self.n_splits)), Warning)\n",
      "C:\\Users\\Kereat\\Anaconda3\\lib\\site-packages\\sklearn\\model_selection\\_search.py:813: DeprecationWarning: The default of the `iid` parameter will change from True to False in version 0.22 and will be removed in 0.24. This will change numeric results when test-set sizes are unequal.\n",
      "  DeprecationWarning)\n"
     ]
    },
    {
     "data": {
      "text/plain": [
       "RandomForestClassifier(bootstrap=True, class_weight=None, criterion='gini',\n",
       "                       max_depth=3, max_features='auto', max_leaf_nodes=None,\n",
       "                       min_impurity_decrease=0.0, min_impurity_split=None,\n",
       "                       min_samples_leaf=1, min_samples_split=2,\n",
       "                       min_weight_fraction_leaf=0.0, n_estimators=10,\n",
       "                       n_jobs=None, oob_score=False, random_state=0, verbose=0,\n",
       "                       warm_start=False)"
      ]
     },
     "execution_count": 33,
     "metadata": {},
     "output_type": "execute_result"
    }
   ],
   "source": [
    "rf = RandomForestClassifier(random_state=0)\n",
    "parametrs = {'n_estimators': range(10, 50, 10),\n",
    "             'max_depth': range(1, 12, 2),\n",
    "             'min_samples_leaf': range(1, 7),\n",
    "             'min_samples_split': range(2, 9, 2)}\n",
    "gsrd = GridSearchCV(rf, parametrs, cv=3, n_jobs=-1)\n",
    "gsrd.estimator\n",
    "gsrd.fit(x_train, y_train)\n",
    "gsrd.best_estimator_.fit(x_train, y_train)"
   ]
  },
  {
   "cell_type": "markdown",
   "metadata": {},
   "source": [
    "### Получаем предсказание"
   ]
  },
  {
   "cell_type": "code",
   "execution_count": 34,
   "metadata": {},
   "outputs": [
    {
     "data": {
      "text/plain": [
       "2"
      ]
     },
     "execution_count": 34,
     "metadata": {},
     "output_type": "execute_result"
    }
   ],
   "source": [
    "gsrd.predict(x_test)[0]"
   ]
  },
  {
   "cell_type": "markdown",
   "metadata": {},
   "source": [
    "### Делаем предсказания на основе 1000 прогонов"
   ]
  },
  {
   "cell_type": "code",
   "execution_count": 35,
   "metadata": {},
   "outputs": [
    {
     "name": "stdout",
     "output_type": "stream",
     "text": [
      "1.585\n"
     ]
    }
   ],
   "source": [
    "i = 0\n",
    "r = 0\n",
    "while i < 1000:\n",
    "    rf = RandomForestClassifier(n_estimators=10, max_depth=3, min_samples_leaf=1, min_samples_split=2)\n",
    "    rf.fit(x_train, y_train)\n",
    "    predictions = rf.predict(x_test)\n",
    "    i += 1\n",
    "    r += predictions[0]\n",
    "print(r / 1000)"
   ]
  },
  {
   "cell_type": "markdown",
   "metadata": {},
   "source": [
    "# Регрессия"
   ]
  },
  {
   "cell_type": "markdown",
   "metadata": {},
   "source": [
    "## Инферно"
   ]
  },
  {
   "cell_type": "markdown",
   "metadata": {},
   "source": [
    "### Загрузка обучающей выборки"
   ]
  },
  {
   "cell_type": "code",
   "execution_count": 36,
   "metadata": {},
   "outputs": [],
   "source": [
    "df = pd.read_csv('Inferno_train.csv')\n",
    "x_train = df.drop(['link', 'rounds', 'win'], axis=1)\n",
    "y_train = df.rounds"
   ]
  },
  {
   "cell_type": "markdown",
   "metadata": {},
   "source": [
    "### Загрузка тестовой выборки"
   ]
  },
  {
   "cell_type": "code",
   "execution_count": 37,
   "metadata": {},
   "outputs": [],
   "source": [
    "df_test = pd.read_csv('Inferno_test.csv')\n",
    "x_test = df_test.drop(['link', 'rounds', 'win'], axis=1)"
   ]
  },
  {
   "cell_type": "markdown",
   "metadata": {},
   "source": [
    "### Выбираем лучшие параметры"
   ]
  },
  {
   "cell_type": "code",
   "execution_count": 38,
   "metadata": {},
   "outputs": [
    {
     "name": "stderr",
     "output_type": "stream",
     "text": [
      "C:\\Users\\Kereat\\Anaconda3\\lib\\site-packages\\sklearn\\model_selection\\_search.py:813: DeprecationWarning: The default of the `iid` parameter will change from True to False in version 0.22 and will be removed in 0.24. This will change numeric results when test-set sizes are unequal.\n",
      "  DeprecationWarning)\n"
     ]
    },
    {
     "data": {
      "text/plain": [
       "RandomForestRegressor(bootstrap=True, criterion='mse', max_depth=1,\n",
       "                      max_features='auto', max_leaf_nodes=None,\n",
       "                      min_impurity_decrease=0.0, min_impurity_split=None,\n",
       "                      min_samples_leaf=4, min_samples_split=2,\n",
       "                      min_weight_fraction_leaf=0.0, n_estimators=30,\n",
       "                      n_jobs=None, oob_score=False, random_state=0, verbose=0,\n",
       "                      warm_start=False)"
      ]
     },
     "execution_count": 38,
     "metadata": {},
     "output_type": "execute_result"
    }
   ],
   "source": [
    "rf = RandomForestRegressor(random_state=0)\n",
    "parametrs = {'n_estimators': range(10, 50, 10),\n",
    "             'max_depth': range(1, 12, 2),\n",
    "             'min_samples_leaf': range(1, 7),\n",
    "             'min_samples_split': range(2, 9, 2)}\n",
    "gsrd = GridSearchCV(rf, parametrs, cv=3, n_jobs=-1)\n",
    "gsrd.estimator\n",
    "gsrd.fit(x_train, y_train)\n",
    "gsrd.best_estimator_.fit(x_train, y_train)"
   ]
  },
  {
   "cell_type": "markdown",
   "metadata": {},
   "source": [
    "### Получаем предсказание"
   ]
  },
  {
   "cell_type": "code",
   "execution_count": 39,
   "metadata": {},
   "outputs": [
    {
     "data": {
      "text/plain": [
       "10.914890246455284"
      ]
     },
     "execution_count": 39,
     "metadata": {},
     "output_type": "execute_result"
    }
   ],
   "source": [
    "gsrd.predict(x_test)[0] * 16"
   ]
  },
  {
   "cell_type": "markdown",
   "metadata": {},
   "source": [
    "### Делаем предсказания на основе 1000 прогнозов"
   ]
  },
  {
   "cell_type": "code",
   "execution_count": 40,
   "metadata": {},
   "outputs": [
    {
     "name": "stdout",
     "output_type": "stream",
     "text": [
      "10.828230014213712\n"
     ]
    }
   ],
   "source": [
    "i = 0\n",
    "r = 0\n",
    "while i < 1000:\n",
    "    rf = RandomForestRegressor(n_estimators=30, max_depth=1, min_samples_leaf=4, min_samples_split=2)\n",
    "    rf.fit(x_train, y_train)\n",
    "    predictions = rf.predict(x_test)\n",
    "    i += 1\n",
    "    r += predictions[0]\n",
    "print(r / 1000 * 16)"
   ]
  },
  {
   "cell_type": "markdown",
   "metadata": {},
   "source": [
    "## Mirage"
   ]
  },
  {
   "cell_type": "markdown",
   "metadata": {},
   "source": [
    "### Загрузка обучающей выборки"
   ]
  },
  {
   "cell_type": "code",
   "execution_count": 41,
   "metadata": {},
   "outputs": [],
   "source": [
    "df = pd.read_csv('Mirage_train.csv')\n",
    "x_train = df.drop(['link', 'rounds', 'win'], axis=1)\n",
    "y_train = df.rounds"
   ]
  },
  {
   "cell_type": "markdown",
   "metadata": {},
   "source": [
    "### Загрузка тестовой выборки"
   ]
  },
  {
   "cell_type": "code",
   "execution_count": 42,
   "metadata": {},
   "outputs": [],
   "source": [
    "df_test = pd.read_csv('Mirage_train.csv')\n",
    "x_test = df_test.drop(['link', 'rounds', 'win'], axis=1)"
   ]
  },
  {
   "cell_type": "markdown",
   "metadata": {},
   "source": [
    "### Выбираем лучшие параметры"
   ]
  },
  {
   "cell_type": "code",
   "execution_count": 43,
   "metadata": {},
   "outputs": [
    {
     "name": "stderr",
     "output_type": "stream",
     "text": [
      "C:\\Users\\Kereat\\Anaconda3\\lib\\site-packages\\sklearn\\model_selection\\_search.py:813: DeprecationWarning: The default of the `iid` parameter will change from True to False in version 0.22 and will be removed in 0.24. This will change numeric results when test-set sizes are unequal.\n",
      "  DeprecationWarning)\n"
     ]
    },
    {
     "data": {
      "text/plain": [
       "RandomForestRegressor(bootstrap=True, criterion='mse', max_depth=1,\n",
       "                      max_features='auto', max_leaf_nodes=None,\n",
       "                      min_impurity_decrease=0.0, min_impurity_split=None,\n",
       "                      min_samples_leaf=6, min_samples_split=2,\n",
       "                      min_weight_fraction_leaf=0.0, n_estimators=40,\n",
       "                      n_jobs=None, oob_score=False, random_state=0, verbose=0,\n",
       "                      warm_start=False)"
      ]
     },
     "execution_count": 43,
     "metadata": {},
     "output_type": "execute_result"
    }
   ],
   "source": [
    "rf = RandomForestRegressor(random_state=0)\n",
    "parametrs = {'n_estimators': range(10, 50, 10),\n",
    "             'max_depth': range(1, 12, 2),\n",
    "             'min_samples_leaf': range(1, 7),\n",
    "             'min_samples_split': range(2, 9, 2)}\n",
    "gsrd = GridSearchCV(rf, parametrs, cv=3, n_jobs=-1)\n",
    "gsrd.estimator\n",
    "gsrd.fit(x_train, y_train)\n",
    "gsrd.best_estimator_.fit(x_train, y_train)"
   ]
  },
  {
   "cell_type": "markdown",
   "metadata": {},
   "source": [
    "### Получаем предсказание"
   ]
  },
  {
   "cell_type": "code",
   "execution_count": 44,
   "metadata": {},
   "outputs": [
    {
     "data": {
      "text/plain": [
       "9.965267638573575"
      ]
     },
     "execution_count": 44,
     "metadata": {},
     "output_type": "execute_result"
    }
   ],
   "source": [
    "gsrd.predict(x_test)[0] * 16"
   ]
  },
  {
   "cell_type": "markdown",
   "metadata": {},
   "source": [
    "### Делаем предсказания на основе 1000 прогнозов"
   ]
  },
  {
   "cell_type": "code",
   "execution_count": 45,
   "metadata": {},
   "outputs": [
    {
     "name": "stdout",
     "output_type": "stream",
     "text": [
      "10.253742426512192\n"
     ]
    }
   ],
   "source": [
    "i = 0\n",
    "r = 0\n",
    "while i < 1000:\n",
    "    rf = RandomForestRegressor(n_estimators=30, max_depth=1, min_samples_leaf=4, min_samples_split=2)\n",
    "    rf.fit(x_train, y_train)\n",
    "    predictions = rf.predict(x_test)\n",
    "    i += 1\n",
    "    r += predictions[0]\n",
    "print(r / 1000 * 16)"
   ]
  },
  {
   "cell_type": "code",
   "execution_count": null,
   "metadata": {},
   "outputs": [],
   "source": []
  }
 ],
 "metadata": {
  "kernelspec": {
   "display_name": "Python 3",
   "language": "python",
   "name": "python3"
  },
  "language_info": {
   "codemirror_mode": {
    "name": "ipython",
    "version": 3
   },
   "file_extension": ".py",
   "mimetype": "text/x-python",
   "name": "python",
   "nbconvert_exporter": "python",
   "pygments_lexer": "ipython3",
   "version": "3.7.3"
  }
 },
 "nbformat": 4,
 "nbformat_minor": 2
}
