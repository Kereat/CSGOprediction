{
 "cells": [
  {
   "cell_type": "markdown",
   "metadata": {},
   "source": [
    "- Определяем тиер в зависимости от ранга команды в мировом рейтинге, мол тиер -1 первые 15-25 команды, к примеру и выводим результат\n",
    "- Важность турнира пока не знаю как вывести, но можно собрать инфу по количеству выигрываемых денег а также по тому, какие команды играют\n",
    "- Рейтинг игроков я думаю пока средний 2.0 выводить\n",
    "- Активность команды выводим по количеству сыгранных игр \n",
    "- История встреч, сыгранные карты и счёт на них\n",
    "- История игр с одинаковыми врагами (типа вп - фазе, ликвид фазе, когда сравниваем вп и ликвид)\n",
    "- Мапы пока думаю просто выводить списком, которые сортируется, мол сыграли с тир-1 командой, тир-2 и так далее командами, результат, противник, карту (тоже сортируем) и метку поражения или победы"
   ]
  },
  {
   "cell_type": "code",
   "execution_count": 3,
   "metadata": {},
   "outputs": [
    {
     "name": "stdout",
     "output_type": "stream",
     "text": [
      "Virtus.pro https://www.hltv.org/team/5378/virtuspro\n",
      "CR4ZY https://www.hltv.org/team/10150/cr4zy\n"
     ]
    }
   ],
   "source": [
    "import requests\n",
    "import re\n",
    "\n",
    "# получаем код страницы по ссылке\n",
    "link = 'https://www.hltv.org/matches/2337713/virtuspro-vs-cr4zy-united-masters-league-season-2'\n",
    "request = requests.get(link).text\n",
    "\n",
    "# получаем название команд \n",
    "pattern_findteam = r\"class=\\\"teamName\\\">([\\w\\s.-]+)<\"\n",
    "teams = re.findall(pattern_findteam, request)\n",
    "team1 = teams[0]\n",
    "team1 = teams[1]\n",
    "\n",
    "# получаем ссылки на страницы команд\n",
    "pattern_team1 = r\"<div class=\\\"team1-gradient\\\"><a href=\\\"([\\w/-]+)\\\"\"\n",
    "team1_link = 'https://www.hltv.org' + re.findall(pattern_team1, request)[0] \n",
    "pattern_team2 = r\"<div class=\\\"team2-gradient\\\"><a href=\\\"([\\w/-]+)\\\"\"\n",
    "team2_link = 'https://www.hltv.org' + re.findall(pattern_team2, request)[0] \n",
    "\n",
    "request = requests.get('https://www.hltv.org/matches/2337758/movistar-riders-vs-havu-esea-mdl-season-32-europe').text\n",
    "\n",
    "print(teams[0], team1_link)\n",
    "print(teams[1], team2_link)"
   ]
  },
  {
   "cell_type": "code",
   "execution_count": null,
   "metadata": {},
   "outputs": [],
   "source": []
  }
 ],
 "metadata": {
  "kernelspec": {
   "display_name": "Python 3",
   "language": "python",
   "name": "python3"
  },
  "language_info": {
   "codemirror_mode": {
    "name": "ipython",
    "version": 3
   },
   "file_extension": ".py",
   "mimetype": "text/x-python",
   "name": "python",
   "nbconvert_exporter": "python",
   "pygments_lexer": "ipython3",
   "version": "3.7.3"
  }
 },
 "nbformat": 4,
 "nbformat_minor": 2
}
